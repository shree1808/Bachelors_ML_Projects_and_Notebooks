{
 "cells": [
  {
   "cell_type": "code",
   "execution_count": 1,
   "metadata": {},
   "outputs": [],
   "source": [
    "import pandas as pd\n",
    "import numpy as np\n",
    "import matplotlib.pyplot as plt\n",
    "import gradio as gr\n",
    "import seaborn as sns\n"
   ]
  },
  {
   "cell_type": "code",
   "execution_count": 2,
   "metadata": {},
   "outputs": [],
   "source": [
    "from math import log"
   ]
  },
  {
   "cell_type": "code",
   "execution_count": 3,
   "metadata": {},
   "outputs": [],
   "source": [
    "def Crop_Yield(Yield,Year,Crop,Cost_of_Cultivation):\n",
    "    years = [ '1850', '1900', '1950', '2000', '2050']\n",
    "    m = years.index(Year)\n",
    "    start_day = 10* m\n",
    "    final_day = 10* (m + 1)\n",
    "    x = np.arange(start_day, final_day + 1)\n",
    "    #  Yield Crop wise\n",
    "    Crop_count = {'ARHAR':250, 'COTTON':200, 'GRAM':125, 'GROUNDNUT':170, 'MAIZE':95, 'MOONG':60, 'PADDY':112,\n",
    "    'RAPESEED AND MUSTARD':43, 'SUGARCANE':53, 'WHEAT':198 , 'RICE':240}\n",
    "    if Cost_of_Cultivation:\n",
    "        Yield = log(Yield)\n",
    "    data = pd.DataFrame({'day': x})\n",
    "    data[Crop] = ( x ** (Yield) * (Crop_count[Crop] + 1))\n",
    "    fig = plt.figure()\n",
    "    plt.scatter(data['day'], data[Crop].to_numpy(), label = Crop)\n",
    "    plt.title(\"Yield in \" + Year)\n",
    "    plt.ylabel(\"Total Crop Yield statewise based on Production\")\n",
    "    plt.xlabel(\"Year\")\n",
    "    plt.grid()\n",
    "    return fig"
   ]
  },
  {
   "cell_type": "code",
   "execution_count": 4,
   "metadata": {},
   "outputs": [
    {
     "name": "stderr",
     "output_type": "stream",
     "text": [
      "c:\\Users\\Shree123\\anaconda3\\lib\\site-packages\\gradio\\interface.py:329: UserWarning: Currently, only the 'default' theme is supported.\n",
      "  warnings.warn(\"Currently, only the 'default' theme is supported.\")\n"
     ]
    },
    {
     "name": "stdout",
     "output_type": "stream",
     "text": [
      "Running on local URL:  http://127.0.0.1:7864\n",
      "\n",
      "To create a public link, set `share=True` in `launch()`.\n"
     ]
    },
    {
     "data": {
      "text/html": [
       "<div><iframe src=\"http://127.0.0.1:7864/\" width=\"100%\" height=\"500\" allow=\"autoplay; camera; microphone; clipboard-read; clipboard-write;\" frameborder=\"0\" allowfullscreen></iframe></div>"
      ],
      "text/plain": [
       "<IPython.core.display.HTML object>"
      ]
     },
     "metadata": {},
     "output_type": "display_data"
    },
    {
     "data": {
      "text/plain": []
     },
     "execution_count": 4,
     "metadata": {},
     "output_type": "execute_result"
    }
   ],
   "source": [
    "inputs = [\n",
    "        gr.Slider(1, 250, 25, label=\"Yield\"),\n",
    "        gr.Dropdown([ '1850', '1900', '1950', '2000', '2050'], label=\"year\"),\n",
    "        gr.Dropdown(['ARHAR', 'COTTON', 'GRAM', 'GROUNDNUT', 'MAIZE', 'MOONG', 'PADDY',\n",
    "       'RAPESEED AND MUSTARD', 'SUGARCANE', 'WHEAT', 'RICE'], label=\"Type of the Crop\", ),\n",
    "        gr.Checkbox(label=\"Log of Production Growth Rate?\"),\n",
    "        \n",
    "    ]\n",
    "outputs = gr.Plot()\n",
    "output_width=800,\n",
    "output_height=400,\n",
    "demo = gr.Interface(fn=Crop_Yield, inputs=inputs, outputs=outputs , title=\"Plot describing Crop wise Yield\",theme='peach')\n",
    "\n",
    "demo.launch()"
   ]
  },
  {
   "cell_type": "code",
   "execution_count": null,
   "metadata": {},
   "outputs": [],
   "source": []
  }
 ],
 "metadata": {
  "kernelspec": {
   "display_name": "base",
   "language": "python",
   "name": "python3"
  },
  "language_info": {
   "codemirror_mode": {
    "name": "ipython",
    "version": 3
   },
   "file_extension": ".py",
   "mimetype": "text/x-python",
   "name": "python",
   "nbconvert_exporter": "python",
   "pygments_lexer": "ipython3",
   "version": "3.9.12"
  },
  "orig_nbformat": 4
 },
 "nbformat": 4,
 "nbformat_minor": 2
}
