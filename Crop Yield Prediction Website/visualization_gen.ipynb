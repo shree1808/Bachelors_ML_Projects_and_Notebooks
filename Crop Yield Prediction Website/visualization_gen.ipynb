{
 "cells": [
  {
   "cell_type": "code",
   "execution_count": 1,
   "metadata": {},
   "outputs": [],
   "source": [
    "import pandas as pd\n",
    "import numpy as np\n",
    "import matplotlib.pyplot as plt\n",
    "import gradio as gr\n",
    "import seaborn as sns\n"
   ]
  },
  {
   "cell_type": "code",
   "execution_count": 2,
   "metadata": {},
   "outputs": [],
   "source": [
    "from math import log"
   ]
  },
  {
   "cell_type": "code",
   "execution_count": 3,
   "metadata": {},
   "outputs": [],
   "source": [
    "import matplotlib\n",
    "matplotlib.use('Agg')"
   ]
  },
  {
   "cell_type": "code",
   "execution_count": 4,
   "metadata": {},
   "outputs": [],
   "source": [
    "def Crop_Yield( Yield, Crop_year  , State , Production ):\n",
    "    years = [ '1850', '1900', '1950', '2000', '2050']\n",
    "    m = years.index(Crop_year)\n",
    "    start_day = 10* m\n",
    "    final_day = 10* (m + 1)\n",
    "    x = np.arange(start_day, final_day + 1)\n",
    "    #  Yield state wise\n",
    "    pop_count = {'Maharashtra': 250 , 'Tamil Nadu': 200 , 'West Bengal' : 125 , 'Karnataka' : 170, 'Delhi' : 95, 'Punjab' : 60, \n",
    "                 'Rajasthan' : 25, 'Uttar Pradesh' : 151}\n",
    "    if Production:\n",
    "        Yield = log(Yield)\n",
    "    data = pd.DataFrame({'day': x})\n",
    "    data[State] = ( x ** (Yield) * (pop_count[State] + 1))\n",
    "    fig = plt.figure()\n",
    "    plt.plot(data['day'], data[State].to_numpy(), label = State)\n",
    "    plt.title(\"Yield in \" + Crop_year)\n",
    "    plt.ylabel(\"Total Crop Yield statewise based on Production\")\n",
    "    plt.xlabel(\"Year\")\n",
    "    plt.grid()\n",
    "    return fig\n",
    "        \n",
    "    "
   ]
  },
  {
   "cell_type": "code",
   "execution_count": 5,
   "metadata": {},
   "outputs": [
    {
     "name": "stdout",
     "output_type": "stream",
     "text": [
      "Running on local URL:  http://127.0.0.1:7863\n",
      "\n",
      "To create a public link, set `share=True` in `launch()`.\n"
     ]
    },
    {
     "data": {
      "text/html": [
       "<div><iframe src=\"http://127.0.0.1:7863/\" width=\"100%\" height=\"500\" allow=\"autoplay; camera; microphone; clipboard-read; clipboard-write;\" frameborder=\"0\" allowfullscreen></iframe></div>"
      ],
      "text/plain": [
       "<IPython.core.display.HTML object>"
      ]
     },
     "metadata": {},
     "output_type": "display_data"
    },
    {
     "data": {
      "text/plain": []
     },
     "execution_count": 5,
     "metadata": {},
     "output_type": "execute_result"
    }
   ],
   "source": [
    "inputs = [\n",
    "        gr.Slider(1, 250, 25, label=\"Yield\"),\n",
    "        gr.Dropdown([ '1850', '1900', '1950', '2000', '2050'], label=\"year\"),\n",
    "        gr.Radio(['Maharashtra', 'Tamil Nadu', 'West Bengal'  , 'Karnataka' , 'Delhi' , 'Punjab', \n",
    "                 'Rajasthan', 'Uttar Pradesh'], label=\"State\", ),\n",
    "        gr.Checkbox(label=\"Log of Production Growth Rate?\"),\n",
    "    ]\n",
    "outputs = gr.Plot()\n",
    "output_width=800,\n",
    "output_height=400,\n",
    "demo = gr.Interface(fn=Crop_Yield, inputs=inputs, outputs=outputs)\n",
    "\n",
    "demo.launch()"
   ]
  },
  {
   "cell_type": "code",
   "execution_count": null,
   "metadata": {},
   "outputs": [],
   "source": []
  }
 ],
 "metadata": {
  "kernelspec": {
   "display_name": "base",
   "language": "python",
   "name": "python3"
  },
  "language_info": {
   "codemirror_mode": {
    "name": "ipython",
    "version": 3
   },
   "file_extension": ".py",
   "mimetype": "text/x-python",
   "name": "python",
   "nbconvert_exporter": "python",
   "pygments_lexer": "ipython3",
   "version": "3.9.12"
  },
  "orig_nbformat": 4
 },
 "nbformat": 4,
 "nbformat_minor": 2
}
