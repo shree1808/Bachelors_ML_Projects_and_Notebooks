{
 "cells": [
  {
   "cell_type": "code",
   "execution_count": 1,
   "metadata": {},
   "outputs": [],
   "source": [
    "import pandas as pd\n",
    "import numpy as np\n",
    "import matplotlib.pyplot as plt\n",
    "import gradio as gr\n",
    "import seaborn as sns\n",
    "from math import log\n",
    "def Crop_Yield(Yield,Year,Crop,Cost_of_Cultivation):\n",
    "    years = [ '1850', '1900', '1950', '2000', '2050']\n",
    "    m = years.index(Year)\n",
    "    start_day = 10* m\n",
    "    final_day = 10* (m + 1)\n",
    "    x = np.arange(start_day, final_day + 1)\n",
    "    #  Yield Crop wise\n",
    "    Crop_count = {'ARHAR':250, 'COTTON':200, 'GRAM':125, 'GROUNDNUT':170, 'MAIZE':95, 'MOONG':60, 'PADDY':112,\n",
    "    'RAPESEED AND MUSTARD':43, 'SUGARCANE':53, 'WHEAT':198 , 'RICE':240}\n",
    "    if Cost_of_Cultivation:\n",
    "        Yield = log(Yield)\n",
    "    data = pd.DataFrame({'day': x})\n",
    "    data[Crop] = ( x ** (Yield) * (Crop_count[Crop] + 1))\n",
    "    fig, axs = plt.subplots(2, 2, figsize=(10,10))\n",
    "    sns.scatterplot( data['day'], data[Crop].to_numpy(), label = Crop, ax=axs[0, 0])\n",
    "    axs[0, 0].set_title('Scatter plot')\n",
    "    sns.histplot(data[Crop].to_numpy(), ax=axs[0, 1])\n",
    "    axs[0, 1].set_title('Histogram')\n",
    "    sns.kdeplot(data['day'], data[Crop].to_numpy(), label = Crop, ax=axs[1, 0])\n",
    "    axs[1, 0].set_title('KDE plot')\n",
    "    sns.boxplot(data[Crop].to_numpy(), ax=axs[1, 1])\n",
    "    axs[1, 1].set_title('Box plot')\n",
    "    plt.tight_layout()\n",
    "    return fig"
   ]
  },
  {
   "cell_type": "code",
   "execution_count": 2,
   "metadata": {},
   "outputs": [
    {
     "name": "stderr",
     "output_type": "stream",
     "text": [
      "c:\\Users\\Shree123\\anaconda3\\lib\\site-packages\\gradio\\interface.py:329: UserWarning: Currently, only the 'default' theme is supported.\n",
      "  warnings.warn(\"Currently, only the 'default' theme is supported.\")\n",
      "c:\\Users\\Shree123\\anaconda3\\lib\\site-packages\\gradio\\utils.py:840: UserWarning: Expected 4 arguments for function <function Crop_Yield at 0x00000232B664D1F0>, received 3.\n",
      "  warnings.warn(\n",
      "c:\\Users\\Shree123\\anaconda3\\lib\\site-packages\\gradio\\utils.py:844: UserWarning: Expected at least 4 arguments for function <function Crop_Yield at 0x00000232B664D1F0>, received 3.\n",
      "  warnings.warn(\n"
     ]
    },
    {
     "name": "stdout",
     "output_type": "stream",
     "text": [
      "Running on local URL:  http://127.0.0.1:7865\n",
      "\n",
      "To create a public link, set `share=True` in `launch()`.\n"
     ]
    },
    {
     "data": {
      "text/html": [
       "<div><iframe src=\"http://127.0.0.1:7865/\" width=\"100%\" height=\"500\" allow=\"autoplay; camera; microphone; clipboard-read; clipboard-write;\" frameborder=\"0\" allowfullscreen></iframe></div>"
      ],
      "text/plain": [
       "<IPython.core.display.HTML object>"
      ]
     },
     "metadata": {},
     "output_type": "display_data"
    },
    {
     "data": {
      "text/plain": []
     },
     "execution_count": 2,
     "metadata": {},
     "output_type": "execute_result"
    },
    {
     "name": "stderr",
     "output_type": "stream",
     "text": [
      "c:\\Users\\Shree123\\anaconda3\\lib\\site-packages\\gradio\\helpers.py:626: UserWarning: Unexpected argument. Filling with None.\n",
      "  warnings.warn(\"Unexpected argument. Filling with None.\")\n",
      "c:\\Users\\Shree123\\anaconda3\\lib\\site-packages\\seaborn\\_decorators.py:36: FutureWarning: Pass the following variables as keyword args: x, y. From version 0.12, the only valid positional argument will be `data`, and passing other arguments without an explicit keyword will result in an error or misinterpretation.\n",
      "  warnings.warn(\n",
      "c:\\Users\\Shree123\\anaconda3\\lib\\site-packages\\seaborn\\_decorators.py:36: FutureWarning: Pass the following variable as a keyword arg: y. From version 0.12, the only valid positional argument will be `data`, and passing other arguments without an explicit keyword will result in an error or misinterpretation.\n",
      "  warnings.warn(\n",
      "c:\\Users\\Shree123\\anaconda3\\lib\\site-packages\\seaborn\\_decorators.py:36: FutureWarning: Pass the following variable as a keyword arg: x. From version 0.12, the only valid positional argument will be `data`, and passing other arguments without an explicit keyword will result in an error or misinterpretation.\n",
      "  warnings.warn(\n",
      "c:\\Users\\Shree123\\anaconda3\\lib\\site-packages\\gradio\\helpers.py:626: UserWarning: Unexpected argument. Filling with None.\n",
      "  warnings.warn(\"Unexpected argument. Filling with None.\")\n",
      "c:\\Users\\Shree123\\anaconda3\\lib\\site-packages\\seaborn\\_decorators.py:36: FutureWarning: Pass the following variables as keyword args: x, y. From version 0.12, the only valid positional argument will be `data`, and passing other arguments without an explicit keyword will result in an error or misinterpretation.\n",
      "  warnings.warn(\n",
      "c:\\Users\\Shree123\\anaconda3\\lib\\site-packages\\seaborn\\_decorators.py:36: FutureWarning: Pass the following variable as a keyword arg: y. From version 0.12, the only valid positional argument will be `data`, and passing other arguments without an explicit keyword will result in an error or misinterpretation.\n",
      "  warnings.warn(\n",
      "c:\\Users\\Shree123\\anaconda3\\lib\\site-packages\\seaborn\\_decorators.py:36: FutureWarning: Pass the following variable as a keyword arg: x. From version 0.12, the only valid positional argument will be `data`, and passing other arguments without an explicit keyword will result in an error or misinterpretation.\n",
      "  warnings.warn(\n"
     ]
    }
   ],
   "source": [
    "inputs = [\n",
    "        gr.Slider(1, 250, 25, label=\"Yield\"),\n",
    "        gr.Dropdown([ '1850', '1900', '1950', '2000', '2050'], label=\"year\"),\n",
    "        gr.Dropdown(['ARHAR', 'COTTON', 'GRAM', 'GROUNDNUT', 'MAIZE', 'MOONG', 'PADDY',\n",
    "       'RAPESEED AND MUSTARD', 'SUGARCANE', 'WHEAT', 'RICE'], label=\"Type of the Crop\", ),\n",
    "    ]\n",
    "outputs = gr.Plot()\n",
    "output_width=800,\n",
    "output_height=400,\n",
    "demo = gr.Interface(fn=Crop_Yield, inputs=inputs, outputs=outputs , title=\"Plot describing Crop wise Yield\",theme='peach')\n",
    "\n",
    "demo.launch()"
   ]
  },
  {
   "cell_type": "code",
   "execution_count": null,
   "metadata": {},
   "outputs": [],
   "source": []
  }
 ],
 "metadata": {
  "kernelspec": {
   "display_name": "base",
   "language": "python",
   "name": "python3"
  },
  "language_info": {
   "codemirror_mode": {
    "name": "ipython",
    "version": 3
   },
   "file_extension": ".py",
   "mimetype": "text/x-python",
   "name": "python",
   "nbconvert_exporter": "python",
   "pygments_lexer": "ipython3",
   "version": "3.9.12"
  },
  "orig_nbformat": 4,
  "vscode": {
   "interpreter": {
    "hash": "a4f909a5b2c31ac38b55bb8328d1158b42031308258f3c05646ba8164448a51c"
   }
  }
 },
 "nbformat": 4,
 "nbformat_minor": 2
}
