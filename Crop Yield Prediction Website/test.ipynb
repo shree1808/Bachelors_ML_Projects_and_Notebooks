{
 "cells": [
  {
   "cell_type": "code",
   "execution_count": 12,
   "metadata": {},
   "outputs": [],
   "source": [
    "import gradio as gr\n",
    "import pandas as pd\n",
    "import numpy as np\n",
    "from sklearn.linear_model import LinearRegression"
   ]
  },
  {
   "cell_type": "code",
   "execution_count": 13,
   "metadata": {},
   "outputs": [],
   "source": [
    "data = pd.read_csv('dataset/datafile (1).csv')"
   ]
  },
  {
   "cell_type": "code",
   "execution_count": 14,
   "metadata": {},
   "outputs": [],
   "source": [
    "X = data.copy()\n",
    "y = data['Yield']"
   ]
  },
  {
   "cell_type": "code",
   "execution_count": 17,
   "metadata": {},
   "outputs": [],
   "source": [
    "X.drop(columns= ['Yield' , 'Crop' , 'State'] , inplace = True)"
   ]
  },
  {
   "cell_type": "code",
   "execution_count": 18,
   "metadata": {},
   "outputs": [
    {
     "data": {
      "text/plain": [
       "LinearRegression()"
      ]
     },
     "execution_count": 18,
     "metadata": {},
     "output_type": "execute_result"
    }
   ],
   "source": [
    "lineareg = LinearRegression()\n",
    "lineareg.fit(X,y)"
   ]
  },
  {
   "cell_type": "code",
   "execution_count": 19,
   "metadata": {},
   "outputs": [
    {
     "name": "stdout",
     "output_type": "stream",
     "text": [
      "Accuracy score :  0.763847741329705 \n",
      "\n"
     ]
    }
   ],
   "source": [
    "print('Accuracy score : ',lineareg.score(X,y),'\\n')"
   ]
  },
  {
   "cell_type": "code",
   "execution_count": null,
   "metadata": {},
   "outputs": [],
   "source": [
    "def predict_score(Cultivation,C1,Production):\n",
    "    hours = np.array(hours)\n",
    "    pred_score = lineareg.predict(hours.reshape(-1,1))\n",
    "    return np.round(pred_score[0], 2)\n",
    "input = gr.inputs.Number(label='Number of Hours studied')\n",
    "output = gr.outputs.Textbox(label='Predicted Score')\n",
    "gr.Interface( fn=predict_score,\n",
    "              inputs=input,\n",
    "              outputs=output).launch();\n",
    "\n",
    " model.fit(x,y)\n",
    "    # Predict recommended crop for given inputs\n",
    "    prediction = model.predict([[Cultivation ,C1,Production]])\n",
    "    # Return the recommended crop\n",
    "    return prediction[0]"
   ]
  },
  {
   "cell_type": "code",
   "execution_count": null,
   "metadata": {},
   "outputs": [],
   "source": [
    "import gradio as gr\n",
    "import pandas as pd\n",
    "import numpy as np\n",
    "from sklearn.linear_model import LinearRegression\n",
    "#load the dataset to pandas dataframe\n",
    "\n",
    "data = pd.read_csv('dataset/datafile (1).csv')aaa\n",
    "#Prepare data\n",
    "X = student_data.copy()\n",
    "y = student_data['Scores']\n",
    "del X['Scores']\n",
    "#create a machine learning model and train it\n",
    "lineareg = LinearRegression()\n",
    "lineareg.fit(X,y)\n",
    "print('Accuracy score : ',lineareg.score(X,y),'\\n')\n",
    "#now the model has been trained well let test it\n",
    "#function to predict the input hours\n",
    "def predict_score(hours):\n",
    "    hours = np.array(hours)\n",
    "    pred_score = lineareg.predict(hours.reshape(-1,1))\n",
    "    return np.round(pred_score[0], 2)\n",
    "input = gr.inputs.Number(label='Number of Hours studied')\n",
    "output = gr.outputs.Textbox(label='Predicted Score')\n",
    "gr.Interface( fn=predict_score,\n",
    "              inputs=input,\n",
    "              outputs=output).launch();"
   ]
  },
  {
   "cell_type": "code",
   "execution_count": null,
   "metadata": {},
   "outputs": [],
   "source": []
  }
 ],
 "metadata": {
  "kernelspec": {
   "display_name": "base",
   "language": "python",
   "name": "python3"
  },
  "language_info": {
   "codemirror_mode": {
    "name": "ipython",
    "version": 3
   },
   "file_extension": ".py",
   "mimetype": "text/x-python",
   "name": "python",
   "nbconvert_exporter": "python",
   "pygments_lexer": "ipython3",
   "version": "3.9.12"
  },
  "orig_nbformat": 4
 },
 "nbformat": 4,
 "nbformat_minor": 2
}
