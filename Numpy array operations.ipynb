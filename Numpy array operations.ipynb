{
 "cells": [
  {
   "cell_type": "code",
   "execution_count": 78,
   "id": "fe588c94",
   "metadata": {},
   "outputs": [],
   "source": [
    "import numpy as np"
   ]
  },
  {
   "cell_type": "code",
   "execution_count": 79,
   "id": "1017e489",
   "metadata": {},
   "outputs": [],
   "source": [
    "arr = np.array([[[1,2,3] , [4,5,6]] , [[7,8,9] , [10,11,12]]])"
   ]
  },
  {
   "cell_type": "code",
   "execution_count": 80,
   "id": "f24a9454",
   "metadata": {},
   "outputs": [
    {
     "data": {
      "text/plain": [
       "array([[[ 1,  2,  3],\n",
       "        [ 4,  5,  6]],\n",
       "\n",
       "       [[ 7,  8,  9],\n",
       "        [10, 11, 12]]])"
      ]
     },
     "execution_count": 80,
     "metadata": {},
     "output_type": "execute_result"
    }
   ],
   "source": [
    "arr"
   ]
  },
  {
   "cell_type": "code",
   "execution_count": 81,
   "id": "90dc7baf",
   "metadata": {},
   "outputs": [
    {
     "data": {
      "text/plain": [
       "array([[1, 2, 3],\n",
       "       [4, 5, 6]])"
      ]
     },
     "execution_count": 81,
     "metadata": {},
     "output_type": "execute_result"
    }
   ],
   "source": [
    "arr[0]"
   ]
  },
  {
   "cell_type": "code",
   "execution_count": 82,
   "id": "b091ceac",
   "metadata": {},
   "outputs": [
    {
     "data": {
      "text/plain": [
       "array([[4, 5, 6]])"
      ]
     },
     "execution_count": 82,
     "metadata": {},
     "output_type": "execute_result"
    }
   ],
   "source": [
    "arr[0,1:2]"
   ]
  },
  {
   "cell_type": "code",
   "execution_count": 83,
   "id": "cf76ac9b",
   "metadata": {},
   "outputs": [
    {
     "data": {
      "text/plain": [
       "array([4, 5, 6])"
      ]
     },
     "execution_count": 83,
     "metadata": {},
     "output_type": "execute_result"
    }
   ],
   "source": [
    "arr[0,1]"
   ]
  },
  {
   "cell_type": "code",
   "execution_count": 84,
   "id": "13bfd43f",
   "metadata": {},
   "outputs": [
    {
     "data": {
      "text/plain": [
       "array([[1, 2, 3]])"
      ]
     },
     "execution_count": 84,
     "metadata": {},
     "output_type": "execute_result"
    }
   ],
   "source": [
    "arr[0,0:1]"
   ]
  },
  {
   "cell_type": "code",
   "execution_count": 85,
   "id": "8a412f81",
   "metadata": {},
   "outputs": [],
   "source": [
    "arrc = arr[0].copy()\n",
    "arr[0]  = 42"
   ]
  },
  {
   "cell_type": "code",
   "execution_count": 86,
   "id": "c951b835",
   "metadata": {},
   "outputs": [
    {
     "data": {
      "text/plain": [
       "array([[[42, 42, 42],\n",
       "        [42, 42, 42]],\n",
       "\n",
       "       [[ 7,  8,  9],\n",
       "        [10, 11, 12]]])"
      ]
     },
     "execution_count": 86,
     "metadata": {},
     "output_type": "execute_result"
    }
   ],
   "source": [
    "arr"
   ]
  },
  {
   "cell_type": "code",
   "execution_count": 87,
   "id": "691d174a",
   "metadata": {},
   "outputs": [
    {
     "data": {
      "text/plain": [
       "array([[[ 1,  2,  3],\n",
       "        [ 4,  5,  6]],\n",
       "\n",
       "       [[ 7,  8,  9],\n",
       "        [10, 11, 12]]])"
      ]
     },
     "execution_count": 87,
     "metadata": {},
     "output_type": "execute_result"
    }
   ],
   "source": [
    "arr[0] = arrc\n",
    "arr"
   ]
  },
  {
   "cell_type": "code",
   "execution_count": 88,
   "id": "dc234c6e",
   "metadata": {},
   "outputs": [],
   "source": [
    "arr2 = np.array([[1,2,3],[4,5,6],[7,8,9]])"
   ]
  },
  {
   "cell_type": "code",
   "execution_count": 89,
   "id": "107556b0",
   "metadata": {},
   "outputs": [
    {
     "name": "stdout",
     "output_type": "stream",
     "text": [
      "[[1 2 3]\n",
      " [4 5 6]\n",
      " [7 8 9]]\n",
      "Shape (3, 3)\n"
     ]
    }
   ],
   "source": [
    "print(arr2)\n",
    "print('Shape',arr2.shape)"
   ]
  },
  {
   "cell_type": "code",
   "execution_count": 90,
   "id": "4434f827",
   "metadata": {},
   "outputs": [
    {
     "data": {
      "text/plain": [
       "array([[2, 3],\n",
       "       [5, 6]])"
      ]
     },
     "execution_count": 90,
     "metadata": {},
     "output_type": "execute_result"
    }
   ],
   "source": [
    "arr2[:2,1:]"
   ]
  },
  {
   "cell_type": "code",
   "execution_count": 91,
   "id": "aa395072",
   "metadata": {},
   "outputs": [
    {
     "data": {
      "text/plain": [
       "array([7, 8, 9])"
      ]
     },
     "execution_count": 91,
     "metadata": {},
     "output_type": "execute_result"
    }
   ],
   "source": [
    "arr2[2]"
   ]
  },
  {
   "cell_type": "code",
   "execution_count": 92,
   "id": "72fef2d5",
   "metadata": {},
   "outputs": [
    {
     "data": {
      "text/plain": [
       "array([7, 8, 9])"
      ]
     },
     "execution_count": 92,
     "metadata": {},
     "output_type": "execute_result"
    }
   ],
   "source": [
    "arr2[2,:]"
   ]
  },
  {
   "cell_type": "code",
   "execution_count": 93,
   "id": "651b368a",
   "metadata": {},
   "outputs": [
    {
     "data": {
      "text/plain": [
       "array([[1, 2],\n",
       "       [4, 5],\n",
       "       [7, 8]])"
      ]
     },
     "execution_count": 93,
     "metadata": {},
     "output_type": "execute_result"
    }
   ],
   "source": [
    "arr2[:,:2]"
   ]
  },
  {
   "cell_type": "code",
   "execution_count": 94,
   "id": "b6c3d191",
   "metadata": {},
   "outputs": [],
   "source": [
    " names = np.array(['Bob', 'Joe', 'Will', 'Bob', 'Will', 'Joe', 'Joe'])"
   ]
  },
  {
   "cell_type": "code",
   "execution_count": 95,
   "id": "850ed282",
   "metadata": {},
   "outputs": [],
   "source": [
    "from numpy.random import randn"
   ]
  },
  {
   "cell_type": "code",
   "execution_count": 96,
   "id": "599bc162",
   "metadata": {},
   "outputs": [
    {
     "data": {
      "text/plain": [
       "array([[-0.17357293, -1.00086835, -1.2982158 ,  0.9633902 ],\n",
       "       [-1.90878317,  1.46272734,  1.49242225, -1.20762923],\n",
       "       [-2.17353401, -1.93351616,  1.58977651, -0.56610258],\n",
       "       [ 0.28255892, -0.09965158,  0.03560853,  1.58896803],\n",
       "       [-1.02015324, -0.39649236, -0.83481772,  1.10440189],\n",
       "       [-0.37814631,  0.06036798,  1.81902363,  1.12942294],\n",
       "       [-0.29289361, -0.19294617, -0.53776205,  1.40769067]])"
      ]
     },
     "execution_count": 96,
     "metadata": {},
     "output_type": "execute_result"
    }
   ],
   "source": [
    "data = randn(7,4)\n",
    "data"
   ]
  },
  {
   "cell_type": "code",
   "execution_count": 97,
   "id": "704e5862",
   "metadata": {},
   "outputs": [
    {
     "data": {
      "text/plain": [
       "array(['Bob', 'Joe', 'Will', 'Bob', 'Will', 'Joe', 'Joe'], dtype='<U4')"
      ]
     },
     "execution_count": 97,
     "metadata": {},
     "output_type": "execute_result"
    }
   ],
   "source": [
    "names"
   ]
  },
  {
   "cell_type": "code",
   "execution_count": 98,
   "id": "e455edc4",
   "metadata": {},
   "outputs": [
    {
     "data": {
      "text/plain": [
       "array([ True, False, False,  True, False, False, False])"
      ]
     },
     "execution_count": 98,
     "metadata": {},
     "output_type": "execute_result"
    }
   ],
   "source": [
    "names == 'Bob'"
   ]
  },
  {
   "cell_type": "code",
   "execution_count": 99,
   "id": "3e622fc7",
   "metadata": {},
   "outputs": [
    {
     "data": {
      "text/plain": [
       "array([[-0.17357293, -1.00086835, -1.2982158 ,  0.9633902 ],\n",
       "       [ 0.28255892, -0.09965158,  0.03560853,  1.58896803]])"
      ]
     },
     "execution_count": 99,
     "metadata": {},
     "output_type": "execute_result"
    }
   ],
   "source": [
    "data[names == 'Bob']"
   ]
  },
  {
   "cell_type": "code",
   "execution_count": 100,
   "id": "3466a800",
   "metadata": {},
   "outputs": [
    {
     "data": {
      "text/plain": [
       "array([[-1.2982158 ,  0.9633902 ],\n",
       "       [ 0.03560853,  1.58896803]])"
      ]
     },
     "execution_count": 100,
     "metadata": {},
     "output_type": "execute_result"
    }
   ],
   "source": [
    "data[names == 'Bob' , 2:]"
   ]
  },
  {
   "cell_type": "code",
   "execution_count": 101,
   "id": "5154dff3",
   "metadata": {},
   "outputs": [
    {
     "data": {
      "text/plain": [
       "array([[-1.90878317,  1.46272734,  1.49242225, -1.20762923],\n",
       "       [-2.17353401, -1.93351616,  1.58977651, -0.56610258],\n",
       "       [-1.02015324, -0.39649236, -0.83481772,  1.10440189],\n",
       "       [-0.37814631,  0.06036798,  1.81902363,  1.12942294],\n",
       "       [-0.29289361, -0.19294617, -0.53776205,  1.40769067]])"
      ]
     },
     "execution_count": 101,
     "metadata": {},
     "output_type": "execute_result"
    }
   ],
   "source": [
    "data[names != 'Bob']"
   ]
  },
  {
   "cell_type": "code",
   "execution_count": 102,
   "id": "7f33a055",
   "metadata": {},
   "outputs": [
    {
     "data": {
      "text/plain": [
       "array([[-0.17357293, -1.00086835, -1.2982158 ,  0.9633902 ],\n",
       "       [-2.17353401, -1.93351616,  1.58977651, -0.56610258],\n",
       "       [ 0.28255892, -0.09965158,  0.03560853,  1.58896803],\n",
       "       [-1.02015324, -0.39649236, -0.83481772,  1.10440189]])"
      ]
     },
     "execution_count": 102,
     "metadata": {},
     "output_type": "execute_result"
    }
   ],
   "source": [
    "#  Mulitple Conditions\n",
    "data[(names == 'Bob') | (names == 'Will')]"
   ]
  },
  {
   "cell_type": "code",
   "execution_count": 103,
   "id": "bee77b54",
   "metadata": {},
   "outputs": [
    {
     "data": {
      "text/plain": [
       "array([ True, False,  True,  True,  True, False, False])"
      ]
     },
     "execution_count": 103,
     "metadata": {},
     "output_type": "execute_result"
    }
   ],
   "source": [
    "#  perform the same by defining a variable\n",
    "mask = (names == 'Bob')  | (names == 'Will')\n",
    "mask"
   ]
  },
  {
   "cell_type": "code",
   "execution_count": 104,
   "id": "787a1601",
   "metadata": {},
   "outputs": [
    {
     "data": {
      "text/plain": [
       "array([[-0.17357293, -1.00086835, -1.2982158 ,  0.9633902 ],\n",
       "       [-2.17353401, -1.93351616,  1.58977651, -0.56610258],\n",
       "       [ 0.28255892, -0.09965158,  0.03560853,  1.58896803],\n",
       "       [-1.02015324, -0.39649236, -0.83481772,  1.10440189]])"
      ]
     },
     "execution_count": 104,
     "metadata": {},
     "output_type": "execute_result"
    }
   ],
   "source": [
    "data[mask]"
   ]
  },
  {
   "cell_type": "code",
   "execution_count": 105,
   "id": "13c87fcb",
   "metadata": {},
   "outputs": [],
   "source": [
    "data1 = data"
   ]
  },
  {
   "cell_type": "code",
   "execution_count": 106,
   "id": "e423f653",
   "metadata": {},
   "outputs": [
    {
     "data": {
      "text/plain": [
       "array([[0.        , 0.        , 0.        , 0.9633902 ],\n",
       "       [0.        , 1.46272734, 1.49242225, 0.        ],\n",
       "       [0.        , 0.        , 1.58977651, 0.        ],\n",
       "       [0.28255892, 0.        , 0.03560853, 1.58896803],\n",
       "       [0.        , 0.        , 0.        , 1.10440189],\n",
       "       [0.        , 0.06036798, 1.81902363, 1.12942294],\n",
       "       [0.        , 0.        , 0.        , 1.40769067]])"
      ]
     },
     "execution_count": 106,
     "metadata": {},
     "output_type": "execute_result"
    }
   ],
   "source": [
    "data[data<0] = 0\n",
    "data"
   ]
  },
  {
   "cell_type": "code",
   "execution_count": 107,
   "id": "35707df1",
   "metadata": {},
   "outputs": [],
   "source": [
    "#  for filtering with strings\n",
    "data[names == 'Joe'] = 7"
   ]
  },
  {
   "cell_type": "code",
   "execution_count": 108,
   "id": "7a61d9ff",
   "metadata": {},
   "outputs": [
    {
     "data": {
      "text/plain": [
       "array([[0.        , 0.        , 0.        , 0.9633902 ],\n",
       "       [7.        , 7.        , 7.        , 7.        ],\n",
       "       [0.        , 0.        , 1.58977651, 0.        ],\n",
       "       [0.28255892, 0.        , 0.03560853, 1.58896803],\n",
       "       [0.        , 0.        , 0.        , 1.10440189],\n",
       "       [7.        , 7.        , 7.        , 7.        ],\n",
       "       [7.        , 7.        , 7.        , 7.        ]])"
      ]
     },
     "execution_count": 108,
     "metadata": {},
     "output_type": "execute_result"
    }
   ],
   "source": [
    "data"
   ]
  },
  {
   "cell_type": "code",
   "execution_count": 109,
   "id": "69b13640",
   "metadata": {},
   "outputs": [
    {
     "data": {
      "text/plain": [
       "array([[7., 7., 7., 7.],\n",
       "       [7., 7., 7., 7.],\n",
       "       [7., 7., 7., 7.],\n",
       "       [7., 7., 7., 7.],\n",
       "       [7., 7., 7., 7.],\n",
       "       [7., 7., 7., 7.],\n",
       "       [7., 7., 7., 7.]])"
      ]
     },
     "execution_count": 109,
     "metadata": {},
     "output_type": "execute_result"
    }
   ],
   "source": [
    "data1[names != 'Joe'] = 7\n",
    "data1"
   ]
  },
  {
   "cell_type": "code",
   "execution_count": 115,
   "id": "fdf73ba2",
   "metadata": {},
   "outputs": [
    {
     "data": {
      "text/plain": [
       "array([[1.15251609e-311, 1.03259720e-321, 0.00000000e+000,\n",
       "        0.00000000e+000],\n",
       "       [0.00000000e+000, 5.02034658e+175, 1.00632776e-046,\n",
       "        2.57111313e+184],\n",
       "       [1.00406538e-042, 4.51590720e-037, 3.24542008e-057,\n",
       "        2.16385130e+190],\n",
       "       [1.94918964e-153, 5.30581644e+180, 4.32453723e-096,\n",
       "        2.14027814e+161],\n",
       "       [1.47762371e+248, 4.30625279e-096, 4.82337723e+228,\n",
       "        8.47619348e+165],\n",
       "       [5.92937224e-038, 1.10571122e-046, 8.07155741e+169,\n",
       "        4.25775084e-096],\n",
       "       [1.16097020e-028, 1.26087994e-076, 2.04380498e-028,\n",
       "        6.12103284e-062],\n",
       "       [1.04917184e-153, 9.08366791e+223, 6.14415221e-144,\n",
       "        1.58718589e-319]])"
      ]
     },
     "execution_count": 115,
     "metadata": {},
     "output_type": "execute_result"
    }
   ],
   "source": [
    "arr2  = np.empty((8,4))\n",
    "arr2"
   ]
  },
  {
   "cell_type": "code",
   "execution_count": 127,
   "id": "be62d21b",
   "metadata": {},
   "outputs": [
    {
     "data": {
      "text/plain": [
       "array([[0., 0., 0., 0.],\n",
       "       [1., 1., 1., 1.],\n",
       "       [2., 2., 2., 2.],\n",
       "       [3., 3., 3., 3.],\n",
       "       [4., 4., 4., 4.],\n",
       "       [5., 5., 5., 5.],\n",
       "       [6., 6., 6., 6.],\n",
       "       [7., 7., 7., 7.]])"
      ]
     },
     "execution_count": 127,
     "metadata": {},
     "output_type": "execute_result"
    }
   ],
   "source": [
    "for i in range(8):\n",
    "    arr2[i] = i\n",
    "arr2"
   ]
  },
  {
   "cell_type": "code",
   "execution_count": 130,
   "id": "2081df8b",
   "metadata": {},
   "outputs": [
    {
     "data": {
      "text/plain": [
       "array([[2., 2., 2., 2.],\n",
       "       [5., 5., 5., 5.],\n",
       "       [4., 4., 4., 4.],\n",
       "       [0., 0., 0., 0.]])"
      ]
     },
     "execution_count": 130,
     "metadata": {},
     "output_type": "execute_result"
    }
   ],
   "source": [
    "arr2[[2,5,4,0]]"
   ]
  },
  {
   "cell_type": "code",
   "execution_count": 137,
   "id": "e0333dbc",
   "metadata": {},
   "outputs": [
    {
     "data": {
      "text/plain": [
       "array([[7., 7., 7., 7.],\n",
       "       [4., 4., 4., 4.]])"
      ]
     },
     "execution_count": 137,
     "metadata": {},
     "output_type": "execute_result"
    }
   ],
   "source": [
    "arr2[[-1,-4]]"
   ]
  },
  {
   "cell_type": "code",
   "execution_count": 140,
   "id": "37d3a9b4",
   "metadata": {},
   "outputs": [
    {
     "data": {
      "text/plain": [
       "array([[ 0,  1,  2,  3],\n",
       "       [ 4,  5,  6,  7],\n",
       "       [ 8,  9, 10, 11],\n",
       "       [12, 13, 14, 15],\n",
       "       [16, 17, 18, 19],\n",
       "       [20, 21, 22, 23],\n",
       "       [24, 25, 26, 27],\n",
       "       [28, 29, 30, 31]])"
      ]
     },
     "execution_count": 140,
     "metadata": {},
     "output_type": "execute_result"
    }
   ],
   "source": [
    "data = np.arange(32).reshape((8,4))\n",
    "data"
   ]
  },
  {
   "cell_type": "code",
   "execution_count": 141,
   "id": "27187c62",
   "metadata": {},
   "outputs": [
    {
     "data": {
      "text/plain": [
       "array([ 4, 23, 29, 10])"
      ]
     },
     "execution_count": 141,
     "metadata": {},
     "output_type": "execute_result"
    }
   ],
   "source": [
    "data[[1, 5, 7, 2], [0, 3, 1, 2]]"
   ]
  },
  {
   "cell_type": "code",
   "execution_count": 144,
   "id": "13e8fde3",
   "metadata": {},
   "outputs": [
    {
     "data": {
      "text/plain": [
       "array([[ 4,  7,  5,  6],\n",
       "       [20, 23, 21, 22],\n",
       "       [28, 31, 29, 30],\n",
       "       [ 8, 11,  9, 10]])"
      ]
     },
     "execution_count": 144,
     "metadata": {},
     "output_type": "execute_result"
    }
   ],
   "source": [
    "data[[1,5,7,2]][:,[0,3,1,2]]"
   ]
  },
  {
   "cell_type": "code",
   "execution_count": 146,
   "id": "20db81ca",
   "metadata": {},
   "outputs": [
    {
     "data": {
      "text/plain": [
       "array([[ 4,  7,  5,  6],\n",
       "       [20, 23, 21, 22],\n",
       "       [28, 31, 29, 30],\n",
       "       [ 8, 11,  9, 10]])"
      ]
     },
     "execution_count": 146,
     "metadata": {},
     "output_type": "execute_result"
    }
   ],
   "source": [
    "data[np.ix_([1, 5, 7, 2], [0, 3, 1, 2])]"
   ]
  },
  {
   "cell_type": "code",
   "execution_count": 149,
   "id": "b1e3d920",
   "metadata": {},
   "outputs": [
    {
     "data": {
      "text/plain": [
       "array([[0, 1, 2],\n",
       "       [3, 4, 5],\n",
       "       [6, 7, 8]])"
      ]
     },
     "execution_count": 149,
     "metadata": {},
     "output_type": "execute_result"
    }
   ],
   "source": [
    "#  Transpose of a matrix\n",
    "data2 = np.arange(9).reshape((3,3))\n",
    "data2"
   ]
  },
  {
   "cell_type": "code",
   "execution_count": 151,
   "id": "98157c0a",
   "metadata": {},
   "outputs": [
    {
     "data": {
      "text/plain": [
       "array([[0, 3, 6],\n",
       "       [1, 4, 7],\n",
       "       [2, 5, 8]])"
      ]
     },
     "execution_count": 151,
     "metadata": {},
     "output_type": "execute_result"
    }
   ],
   "source": [
    "data2.T"
   ]
  },
  {
   "cell_type": "code",
   "execution_count": 154,
   "id": "3e943b7e",
   "metadata": {},
   "outputs": [
    {
     "data": {
      "text/plain": [
       "array([[ 0.98541756,  0.76575873,  0.22737819],\n",
       "       [ 0.04099135,  0.57346487, -1.35322475],\n",
       "       [-1.28544845,  0.02459869,  0.5433627 ]])"
      ]
     },
     "execution_count": 154,
     "metadata": {},
     "output_type": "execute_result"
    }
   ],
   "source": [
    "data3 = randn(3,3)\n",
    "data3"
   ]
  },
  {
   "cell_type": "code",
   "execution_count": 157,
   "id": "87eadc82",
   "metadata": {},
   "outputs": [
    {
     "data": {
      "text/plain": [
       "array([[ 0.98541756,  0.04099135, -1.28544845],\n",
       "       [ 0.76575873,  0.57346487,  0.02459869],\n",
       "       [ 0.22737819, -1.35322475,  0.5433627 ]])"
      ]
     },
     "execution_count": 157,
     "metadata": {},
     "output_type": "execute_result"
    }
   ],
   "source": [
    "data3.T"
   ]
  },
  {
   "cell_type": "code",
   "execution_count": 156,
   "id": "f267667f",
   "metadata": {},
   "outputs": [
    {
     "data": {
      "text/plain": [
       "array([[ 2.62510577,  0.74647885, -0.52987279],\n",
       "       [ 0.74647885,  0.91585348, -0.588544  ],\n",
       "       [-0.52987279, -0.588544  ,  2.17816109]])"
      ]
     },
     "execution_count": 156,
     "metadata": {},
     "output_type": "execute_result"
    }
   ],
   "source": [
    "data4 = np.dot(data3.T , data3)\n",
    "data4"
   ]
  },
  {
   "cell_type": "code",
   "execution_count": 159,
   "id": "2c92aa3d",
   "metadata": {},
   "outputs": [
    {
     "data": {
      "text/plain": [
       "array([[[ 0,  1,  2,  3],\n",
       "        [ 4,  5,  6,  7]],\n",
       "\n",
       "       [[ 8,  9, 10, 11],\n",
       "        [12, 13, 14, 15]]])"
      ]
     },
     "execution_count": 159,
     "metadata": {},
     "output_type": "execute_result"
    }
   ],
   "source": [
    "data5 = np.arange(16).reshape((2,2,4))\n",
    "data5"
   ]
  },
  {
   "cell_type": "code",
   "execution_count": 163,
   "id": "be9dfa49",
   "metadata": {},
   "outputs": [
    {
     "data": {
      "text/plain": [
       "array([[[ 0,  1,  2,  3],\n",
       "        [ 8,  9, 10, 11]],\n",
       "\n",
       "       [[ 4,  5,  6,  7],\n",
       "        [12, 13, 14, 15]]])"
      ]
     },
     "execution_count": 163,
     "metadata": {},
     "output_type": "execute_result"
    }
   ],
   "source": [
    "data5.transpose((1,0,2))"
   ]
  },
  {
   "cell_type": "code",
   "execution_count": 166,
   "id": "df72700e",
   "metadata": {},
   "outputs": [
    {
     "data": {
      "text/plain": [
       "array([[[ 0,  4],\n",
       "        [ 1,  5],\n",
       "        [ 2,  6],\n",
       "        [ 3,  7]],\n",
       "\n",
       "       [[ 8, 12],\n",
       "        [ 9, 13],\n",
       "        [10, 14],\n",
       "        [11, 15]]])"
      ]
     },
     "execution_count": 166,
     "metadata": {},
     "output_type": "execute_result"
    }
   ],
   "source": [
    "data5.swapaxes(1,2)"
   ]
  },
  {
   "cell_type": "code",
   "execution_count": 1,
   "id": "db170c11",
   "metadata": {},
   "outputs": [],
   "source": [
    "import numpy as np "
   ]
  },
  {
   "cell_type": "code",
   "execution_count": 7,
   "id": "1223ec10",
   "metadata": {},
   "outputs": [],
   "source": [
    "from numpy.random import randn"
   ]
  },
  {
   "cell_type": "code",
   "execution_count": 11,
   "id": "8995035e",
   "metadata": {},
   "outputs": [
    {
     "data": {
      "text/plain": [
       "array([0, 1, 2, 3, 4, 5, 6, 7, 8, 9])"
      ]
     },
     "execution_count": 11,
     "metadata": {},
     "output_type": "execute_result"
    }
   ],
   "source": [
    "arr = np.array(np.arange(10))\n",
    "arr"
   ]
  },
  {
   "cell_type": "code",
   "execution_count": 14,
   "id": "d28dfc93",
   "metadata": {},
   "outputs": [
    {
     "data": {
      "text/plain": [
       "array([0.        , 1.        , 1.41421356, 1.73205081, 2.        ,\n",
       "       2.23606798, 2.44948974, 2.64575131, 2.82842712, 3.        ])"
      ]
     },
     "execution_count": 14,
     "metadata": {},
     "output_type": "execute_result"
    }
   ],
   "source": [
    "np.sqrt(arr)"
   ]
  },
  {
   "cell_type": "code",
   "execution_count": 15,
   "id": "c29ed091",
   "metadata": {},
   "outputs": [
    {
     "data": {
      "text/plain": [
       "array([1.00000000e+00, 2.71828183e+00, 7.38905610e+00, 2.00855369e+01,\n",
       "       5.45981500e+01, 1.48413159e+02, 4.03428793e+02, 1.09663316e+03,\n",
       "       2.98095799e+03, 8.10308393e+03])"
      ]
     },
     "execution_count": 15,
     "metadata": {},
     "output_type": "execute_result"
    }
   ],
   "source": [
    "np.exp(arr)"
   ]
  },
  {
   "cell_type": "code",
   "execution_count": 18,
   "id": "ee8a414a",
   "metadata": {},
   "outputs": [],
   "source": [
    "x = randn(4)\n",
    "y = randn(4)"
   ]
  },
  {
   "cell_type": "code",
   "execution_count": 21,
   "id": "63533a4f",
   "metadata": {},
   "outputs": [
    {
     "name": "stdout",
     "output_type": "stream",
     "text": [
      "[-1.04244757 -0.14980065  0.80018763 -0.68757148]\n",
      "[ 0.03512086  0.7045076  -0.94461225 -1.20592471]\n"
     ]
    }
   ],
   "source": [
    "print(x)\n",
    "print(y)"
   ]
  },
  {
   "cell_type": "code",
   "execution_count": 19,
   "id": "db0f344b",
   "metadata": {},
   "outputs": [
    {
     "data": {
      "text/plain": [
       "array([ 0.03512086,  0.7045076 ,  0.80018763, -0.68757148])"
      ]
     },
     "execution_count": 19,
     "metadata": {},
     "output_type": "execute_result"
    }
   ],
   "source": [
    "np.maximum(x,y)"
   ]
  },
  {
   "cell_type": "code",
   "execution_count": 23,
   "id": "6d11036b",
   "metadata": {},
   "outputs": [
    {
     "data": {
      "text/plain": [
       "(array([-0.04244757, -0.14980065,  0.80018763, -0.68757148]),\n",
       " array([-1., -0.,  0., -0.]))"
      ]
     },
     "execution_count": 23,
     "metadata": {},
     "output_type": "execute_result"
    }
   ],
   "source": [
    "np.modf(x,y)"
   ]
  },
  {
   "cell_type": "code",
   "execution_count": 27,
   "id": "6f0e37e9",
   "metadata": {},
   "outputs": [
    {
     "data": {
      "text/plain": [
       "array([ 5.65125727, -4.37985714, -6.71752485, -2.12971406,  3.53528814,\n",
       "        8.01230383,  4.83474807])"
      ]
     },
     "execution_count": 27,
     "metadata": {},
     "output_type": "execute_result"
    }
   ],
   "source": [
    "arr2 = randn(7) * 5\n",
    "arr2"
   ]
  },
  {
   "cell_type": "code",
   "execution_count": 30,
   "id": "94f1b6bc",
   "metadata": {},
   "outputs": [
    {
     "data": {
      "text/plain": [
       "(array([ 0.65125727, -0.37985714, -0.71752485, -0.12971406,  0.53528814,\n",
       "         0.01230383,  0.83474807]),\n",
       " array([ 5., -4., -6., -2.,  3.,  8.,  4.]))"
      ]
     },
     "execution_count": 30,
     "metadata": {},
     "output_type": "execute_result"
    }
   ],
   "source": [
    " np.modf(arr2)   #Remainder"
   ]
  },
  {
   "cell_type": "code",
   "execution_count": 32,
   "id": "fbce2d37",
   "metadata": {},
   "outputs": [
    {
     "data": {
      "text/plain": [
       "array([ 2.23012392,  1.0456147 ,  0.39339128, -0.16291611,  0.69023595,\n",
       "       -1.10051304,  0.07069078, -1.70172495, -0.12991845, -0.65607728])"
      ]
     },
     "execution_count": 32,
     "metadata": {},
     "output_type": "execute_result"
    }
   ],
   "source": [
    "arr3 = randn(10)\n",
    "arr3"
   ]
  },
  {
   "cell_type": "code",
   "execution_count": 33,
   "id": "1d35f73b",
   "metadata": {},
   "outputs": [
    {
     "data": {
      "text/plain": [
       "array([ 1.,  1.,  1., -1.,  1., -1.,  1., -1., -1., -1.])"
      ]
     },
     "execution_count": 33,
     "metadata": {},
     "output_type": "execute_result"
    }
   ],
   "source": [
    "np.sign(arr3)"
   ]
  },
  {
   "cell_type": "code",
   "execution_count": 35,
   "id": "c749921a",
   "metadata": {},
   "outputs": [
    {
     "data": {
      "text/plain": [
       "array([ 3.,  2.,  1., -0.,  1., -1.,  1., -1., -0., -0.])"
      ]
     },
     "execution_count": 35,
     "metadata": {},
     "output_type": "execute_result"
    }
   ],
   "source": [
    "np.ceil(arr3) # computes smallest int > = each element"
   ]
  },
  {
   "cell_type": "code",
   "execution_count": 37,
   "id": "4e5eda9e",
   "metadata": {},
   "outputs": [
    {
     "data": {
      "text/plain": [
       "array([ 2.,  1.,  0., -1.,  0., -2.,  0., -2., -1., -1.])"
      ]
     },
     "execution_count": 37,
     "metadata": {},
     "output_type": "execute_result"
    }
   ],
   "source": [
    "np.floor(arr3) # computes largest int < = each element"
   ]
  },
  {
   "cell_type": "code",
   "execution_count": 41,
   "id": "ecdf326b",
   "metadata": {},
   "outputs": [
    {
     "data": {
      "text/plain": [
       "array([False, False, False, False, False, False, False, False, False,\n",
       "       False])"
      ]
     },
     "execution_count": 41,
     "metadata": {},
     "output_type": "execute_result"
    }
   ],
   "source": [
    "np.isnan(arr3)"
   ]
  },
  {
   "cell_type": "code",
   "execution_count": 42,
   "id": "2b6f6330",
   "metadata": {},
   "outputs": [
    {
     "name": "stdout",
     "output_type": "stream",
     "text": [
      "[ 0.4902453  -0.1022826  -0.01592775 -0.79150026]\n",
      "[0.11794658 0.95269406 0.88913382 0.72689681]\n"
     ]
    }
   ],
   "source": [
    "arr4 = randn(4)\n",
    "print(arr4)\n",
    "arr5 = randn(4)\n",
    "print(arr5)"
   ]
  },
  {
   "cell_type": "code",
   "execution_count": 45,
   "id": "608aeb24",
   "metadata": {},
   "outputs": [
    {
     "data": {
      "text/plain": [
       "array([  0.24058687,  -9.31433148, -55.82294868,  -0.91837849])"
      ]
     },
     "execution_count": 45,
     "metadata": {},
     "output_type": "execute_result"
    }
   ],
   "source": [
    "np.divide(arr5 , arr4)"
   ]
  },
  {
   "cell_type": "code",
   "execution_count": 48,
   "id": "464576ac",
   "metadata": {},
   "outputs": [
    {
     "data": {
      "text/plain": [
       "array([ 0.4902453 , -0.1022826 , -0.01592775, -0.79150026])"
      ]
     },
     "execution_count": 48,
     "metadata": {},
     "output_type": "execute_result"
    }
   ],
   "source": [
    "arr6 = np.copy(arr4)\n",
    "arr6"
   ]
  },
  {
   "cell_type": "code",
   "execution_count": 54,
   "id": "bb3a0ee9",
   "metadata": {},
   "outputs": [],
   "source": [
    "x = np.arange(12)\n",
    "y = np.arange(12)"
   ]
  },
  {
   "cell_type": "code",
   "execution_count": 55,
   "id": "011a370a",
   "metadata": {},
   "outputs": [
    {
     "name": "stdout",
     "output_type": "stream",
     "text": [
      "[ 0  1  2  3  4  5  6  7  8  9 10 11]\n",
      "[ 0  1  2  3  4  5  6  7  8  9 10 11]\n"
     ]
    }
   ],
   "source": [
    "print(x)\n",
    "print(y)"
   ]
  },
  {
   "cell_type": "code",
   "execution_count": 56,
   "id": "2846f2e7",
   "metadata": {},
   "outputs": [
    {
     "data": {
      "text/plain": [
       "array([         1,          1,          4,         27,        256,\n",
       "             3125,      46656,     823543,   16777216,  387420489,\n",
       "       1410065408, 1843829075], dtype=int32)"
      ]
     },
     "execution_count": 56,
     "metadata": {},
     "output_type": "execute_result"
    }
   ],
   "source": [
    "np.power(x,y)"
   ]
  },
  {
   "cell_type": "code",
   "execution_count": 1,
   "id": "4fa8eeaa",
   "metadata": {},
   "outputs": [],
   "source": [
    "import numpy as np\n",
    "from numpy.random  import randn"
   ]
  },
  {
   "cell_type": "code",
   "execution_count": 2,
   "id": "a02420e5",
   "metadata": {},
   "outputs": [],
   "source": [
    "#  Numpy for Data Processing"
   ]
  },
  {
   "cell_type": "code",
   "execution_count": 3,
   "id": "ebe4e9fd",
   "metadata": {},
   "outputs": [],
   "source": [
    "#  cal. sqrt(x^2 + y^2)"
   ]
  },
  {
   "cell_type": "code",
   "execution_count": 5,
   "id": "ba2a7b19",
   "metadata": {},
   "outputs": [],
   "source": [
    "points = np.arange(-5,5,0.01)"
   ]
  },
  {
   "cell_type": "code",
   "execution_count": 6,
   "id": "31993aca",
   "metadata": {},
   "outputs": [],
   "source": [
    "xs , ys = np.meshgrid(points , points)"
   ]
  },
  {
   "cell_type": "code",
   "execution_count": 7,
   "id": "c325999c",
   "metadata": {},
   "outputs": [
    {
     "data": {
      "text/plain": [
       "array([[-5.  , -5.  , -5.  , ..., -5.  , -5.  , -5.  ],\n",
       "       [-4.99, -4.99, -4.99, ..., -4.99, -4.99, -4.99],\n",
       "       [-4.98, -4.98, -4.98, ..., -4.98, -4.98, -4.98],\n",
       "       ...,\n",
       "       [ 4.97,  4.97,  4.97, ...,  4.97,  4.97,  4.97],\n",
       "       [ 4.98,  4.98,  4.98, ...,  4.98,  4.98,  4.98],\n",
       "       [ 4.99,  4.99,  4.99, ...,  4.99,  4.99,  4.99]])"
      ]
     },
     "execution_count": 7,
     "metadata": {},
     "output_type": "execute_result"
    }
   ],
   "source": [
    "ys"
   ]
  },
  {
   "cell_type": "code",
   "execution_count": 8,
   "id": "de1abd87",
   "metadata": {},
   "outputs": [],
   "source": [
    "import matplotlib.pyplot as plt"
   ]
  },
  {
   "cell_type": "code",
   "execution_count": 9,
   "id": "f1872b37",
   "metadata": {},
   "outputs": [
    {
     "data": {
      "text/plain": [
       "array([[7.07106781, 7.06400028, 7.05693985, ..., 7.04988652, 7.05693985,\n",
       "        7.06400028],\n",
       "       [7.06400028, 7.05692568, 7.04985815, ..., 7.04279774, 7.04985815,\n",
       "        7.05692568],\n",
       "       [7.05693985, 7.04985815, 7.04278354, ..., 7.03571603, 7.04278354,\n",
       "        7.04985815],\n",
       "       ...,\n",
       "       [7.04988652, 7.04279774, 7.03571603, ..., 7.0286414 , 7.03571603,\n",
       "        7.04279774],\n",
       "       [7.05693985, 7.04985815, 7.04278354, ..., 7.03571603, 7.04278354,\n",
       "        7.04985815],\n",
       "       [7.06400028, 7.05692568, 7.04985815, ..., 7.04279774, 7.04985815,\n",
       "        7.05692568]])"
      ]
     },
     "execution_count": 9,
     "metadata": {},
     "output_type": "execute_result"
    }
   ],
   "source": [
    "z  = np.sqrt(xs ** 2 + ys **2)\n",
    "z"
   ]
  },
  {
   "cell_type": "code",
   "execution_count": 12,
   "id": "7671bc7a",
   "metadata": {},
   "outputs": [
    {
     "data": {
      "text/plain": [
       "Text(0.5, 1.0, 'The Image plot for the given eqn in a grid of values is')"
      ]
     },
     "execution_count": 12,
     "metadata": {},
     "output_type": "execute_result"
    },
    {
     "data": {
      "image/png": "[encoded data removed]",
      "text/plain": [
       "<Figure size 432x288 with 2 Axes>"
      ]
     },
     "metadata": {
      "needs_background": "light"
     },
     "output_type": "display_data"
    }
   ],
   "source": [
    "plt.imshow(z , cmap = plt.cm.gray);\n",
    "plt.colorbar()\n",
    "plt.title(\"The Image plot for the given eqn in a grid of values is\")"
   ]
  },
  {
   "cell_type": "code",
   "execution_count": 13,
   "id": "35144fa4",
   "metadata": {},
   "outputs": [],
   "source": [
    "#  Conditional statements"
   ]
  },
  {
   "cell_type": "code",
   "execution_count": 32,
   "id": "78893b7a",
   "metadata": {},
   "outputs": [],
   "source": [
    "xarr = np.array([1.1,1.2,1.3,1.4,1.5])\n",
    "yarr = np.array([2.1,2.2,2.3,2.4,2.5])\n",
    "cond = np.array([True,False,True,True,False])"
   ]
  },
  {
   "cell_type": "code",
   "execution_count": 33,
   "id": "8ff96c36",
   "metadata": {},
   "outputs": [
    {
     "data": {
      "text/plain": [
       "[1.1, 2.2, 1.3, 1.4, 2.5]"
      ]
     },
     "execution_count": 33,
     "metadata": {},
     "output_type": "execute_result"
    }
   ],
   "source": [
    "result = [(x if c else y) for x,y,c in zip(xarr,yarr,cond)] \n",
    "result"
   ]
  },
  {
   "cell_type": "code",
   "execution_count": 34,
   "id": "45c2fdc2",
   "metadata": {},
   "outputs": [],
   "source": [
    "result = np.where(cond,xarr,yarr)"
   ]
  },
  {
   "cell_type": "code",
   "execution_count": 35,
   "id": "9a7ed3bd",
   "metadata": {},
   "outputs": [
    {
     "data": {
      "text/plain": [
       "array([1.1, 2.2, 1.3, 1.4, 2.5])"
      ]
     },
     "execution_count": 35,
     "metadata": {},
     "output_type": "execute_result"
    }
   ],
   "source": [
    "result"
   ]
  },
  {
   "cell_type": "code",
   "execution_count": 36,
   "id": "060eebd9",
   "metadata": {},
   "outputs": [
    {
     "data": {
      "text/plain": [
       "array([[ 0.053555  ,  0.26709106,  0.4567444 ,  0.24119406],\n",
       "       [-0.47680395, -0.34213529,  1.11140157, -1.75323006],\n",
       "       [-1.30468792, -0.09450864,  1.12024155, -0.92719655],\n",
       "       [-0.29920503, -0.28771605, -0.10994884,  0.08063874]])"
      ]
     },
     "execution_count": 36,
     "metadata": {},
     "output_type": "execute_result"
    }
   ],
   "source": [
    "arr = randn(4,4)\n",
    "arr"
   ]
  },
  {
   "cell_type": "code",
   "execution_count": 37,
   "id": "c014ae15",
   "metadata": {},
   "outputs": [
    {
     "data": {
      "text/plain": [
       "array([[ 2,  2,  2,  2],\n",
       "       [-2, -2,  2, -2],\n",
       "       [-2, -2,  2, -2],\n",
       "       [-2, -2, -2,  2]])"
      ]
     },
     "execution_count": 37,
     "metadata": {},
     "output_type": "execute_result"
    }
   ],
   "source": [
    "np.where(arr>0,2,-2)"
   ]
  },
  {
   "cell_type": "code",
   "execution_count": 40,
   "id": "ed942484",
   "metadata": {},
   "outputs": [
    {
     "data": {
      "text/plain": [
       "array([[ 2.        ,  2.        ,  2.        ,  2.        ],\n",
       "       [-0.47680395, -0.34213529,  2.        , -1.75323006],\n",
       "       [-1.30468792, -0.09450864,  2.        , -0.92719655],\n",
       "       [-0.29920503, -0.28771605, -0.10994884,  2.        ]])"
      ]
     },
     "execution_count": 40,
     "metadata": {},
     "output_type": "execute_result"
    }
   ],
   "source": [
    "np.where(arr>0,2,arr)"
   ]
  },
  {
   "cell_type": "code",
   "execution_count": 12,
   "id": "6d6fcd44",
   "metadata": {},
   "outputs": [],
   "source": [
    "import numpy as np\n",
    "from numpy.random import randn"
   ]
  },
  {
   "cell_type": "code",
   "execution_count": 13,
   "id": "97e7e7f8",
   "metadata": {},
   "outputs": [
    {
     "data": {
      "text/plain": [
       "array([[-0.59721322, -0.30958379, -1.07193802,  0.62871563],\n",
       "       [-0.19949681,  0.39543852,  1.07830204, -0.04161187],\n",
       "       [-1.14691323,  0.53684432,  0.94059234, -1.47511033],\n",
       "       [ 0.26411642, -1.66636689,  0.07019721,  0.9374342 ]])"
      ]
     },
     "execution_count": 13,
     "metadata": {},
     "output_type": "execute_result"
    }
   ],
   "source": [
    "arr2  = randn(4,4)\n",
    "arr2 "
   ]
  },
  {
   "cell_type": "code",
   "execution_count": 16,
   "id": "d8019e20",
   "metadata": {},
   "outputs": [
    {
     "data": {
      "text/plain": [
       "-0.10353709326223373"
      ]
     },
     "execution_count": 16,
     "metadata": {},
     "output_type": "execute_result"
    }
   ],
   "source": [
    "arr2.mean()"
   ]
  },
  {
   "cell_type": "code",
   "execution_count": 17,
   "id": "149d74f2",
   "metadata": {},
   "outputs": [
    {
     "data": {
      "text/plain": [
       "array([-0.33750485,  0.30815797, -0.28614673, -0.09865477])"
      ]
     },
     "execution_count": 17,
     "metadata": {},
     "output_type": "execute_result"
    }
   ],
   "source": [
    "arr2.mean(axis = 1)"
   ]
  },
  {
   "cell_type": "code",
   "execution_count": 19,
   "id": "8470bc67",
   "metadata": {},
   "outputs": [
    {
     "data": {
      "text/plain": [
       "array([[-0.59721322, -0.30958379, -1.07193802,  0.62871563],\n",
       "       [-0.79671003,  0.08585473,  0.00636401,  0.58710376],\n",
       "       [-1.94362326,  0.62269905,  0.94695635, -0.88800657],\n",
       "       [-1.67950684, -1.04366784,  1.01715356,  0.04942763]])"
      ]
     },
     "execution_count": 19,
     "metadata": {},
     "output_type": "execute_result"
    }
   ],
   "source": [
    "#  cumsum()\n",
    "arr2.cumsum(0)"
   ]
  },
  {
   "cell_type": "code",
   "execution_count": 21,
   "id": "466e8b02",
   "metadata": {},
   "outputs": [
    {
     "data": {
      "text/plain": [
       "array([[-0.59721322,  0.18488753, -0.19818798, -0.12460388],\n",
       "       [-0.19949681, -0.07888872, -0.08506587,  0.00353975],\n",
       "       [-1.14691323, -0.61571385, -0.57913573,  0.8542891 ],\n",
       "       [ 0.26411642, -0.44011485, -0.03089483, -0.02896187]])"
      ]
     },
     "execution_count": 21,
     "metadata": {},
     "output_type": "execute_result"
    }
   ],
   "source": [
    "#  cumprod()\n",
    "arr2.cumprod(1)"
   ]
  },
  {
   "cell_type": "code",
   "execution_count": 23,
   "id": "22d9c537",
   "metadata": {},
   "outputs": [
    {
     "data": {
      "text/plain": [
       "array([[-1.07193802, -0.59721322, -0.30958379,  0.62871563],\n",
       "       [-0.19949681, -0.04161187,  0.39543852,  1.07830204],\n",
       "       [-1.47511033, -1.14691323,  0.53684432,  0.94059234],\n",
       "       [-1.66636689,  0.07019721,  0.26411642,  0.9374342 ]])"
      ]
     },
     "execution_count": 23,
     "metadata": {},
     "output_type": "execute_result"
    }
   ],
   "source": [
    "# Sorting \n",
    "arr2.sort(1)\n",
    "arr2"
   ]
  },
  {
   "cell_type": "code",
   "execution_count": 24,
   "id": "8a0a5274",
   "metadata": {},
   "outputs": [
    {
     "data": {
      "text/plain": [
       "4"
      ]
     },
     "execution_count": 24,
     "metadata": {},
     "output_type": "execute_result"
    }
   ],
   "source": [
    "len(arr2)"
   ]
  },
  {
   "cell_type": "code",
   "execution_count": 25,
   "id": "cc1ef78b",
   "metadata": {},
   "outputs": [],
   "source": [
    "large_array = randn(1000)"
   ]
  },
  {
   "cell_type": "code",
   "execution_count": 27,
   "id": "b8571549",
   "metadata": {},
   "outputs": [
    {
     "data": {
      "text/plain": [
       "0.6821723775651602"
      ]
     },
     "execution_count": 27,
     "metadata": {},
     "output_type": "execute_result"
    }
   ],
   "source": [
    "large_array[int(0.05 * len(large_array))] # 5 qunatile"
   ]
  },
  {
   "cell_type": "code",
   "execution_count": 28,
   "id": "e80705cf",
   "metadata": {},
   "outputs": [
    {
     "data": {
      "text/plain": [
       "array([0, 1, 2, 3, 4, 5, 6, 7, 8, 9])"
      ]
     },
     "execution_count": 28,
     "metadata": {},
     "output_type": "execute_result"
    }
   ],
   "source": [
    "#  Storing Arrays in Binary Format\n",
    "arr = np.arange(10)\n",
    "arr"
   ]
  },
  {
   "cell_type": "code",
   "execution_count": 29,
   "id": "adbc6052",
   "metadata": {},
   "outputs": [],
   "source": [
    "np.save('some_array' , arr)"
   ]
  },
  {
   "cell_type": "code",
   "execution_count": 30,
   "id": "04e0b5ad",
   "metadata": {},
   "outputs": [
    {
     "data": {
      "text/plain": [
       "array([0, 1, 2, 3, 4, 5, 6, 7, 8, 9])"
      ]
     },
     "execution_count": 30,
     "metadata": {},
     "output_type": "execute_result"
    }
   ],
   "source": [
    "np.load('some_array.npy')"
   ]
  },
  {
   "cell_type": "code",
   "execution_count": null,
   "id": "abaa11db",
   "metadata": {},
   "outputs": [],
   "source": []
  }
 ],
 "metadata": {
  "kernelspec": {
   "display_name": "Python 3 (ipykernel)",
   "language": "python",
   "name": "python3"
  },
  "language_info": {
   "codemirror_mode": {
    "name": "ipython",
    "version": 3
   },
   "file_extension": ".py",
   "mimetype": "text/x-python",
   "name": "python",
   "nbconvert_exporter": "python",
   "pygments_lexer": "ipython3",
   "version": "3.9.12"
  }
 },
 "nbformat": 4,
 "nbformat_minor": 5
}
