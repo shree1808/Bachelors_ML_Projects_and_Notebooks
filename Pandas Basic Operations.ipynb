{
 "cells": [
  {
   "cell_type": "code",
   "execution_count": 1,
   "id": "89813645",
   "metadata": {},
   "outputs": [],
   "source": [
    "import pandas as pd\n",
    "import numpy as np"
   ]
  },
  {
   "cell_type": "code",
   "execution_count": 2,
   "id": "566bcf5d",
   "metadata": {},
   "outputs": [
    {
     "data": {
      "text/plain": [
       "0    1\n",
       "1    2\n",
       "2    3\n",
       "3    4\n",
       "4    5\n",
       "dtype: int32"
      ]
     },
     "execution_count": 2,
     "metadata": {},
     "output_type": "execute_result"
    }
   ],
   "source": [
    "# Creating Series\n",
    "x = np.array([1,2,3,4,5])\n",
    "y = pd.Series(x)\n",
    "y"
   ]
  },
  {
   "cell_type": "code",
   "execution_count": 3,
   "id": "cb4c04d1",
   "metadata": {},
   "outputs": [
    {
     "data": {
      "text/plain": [
       "dtype('int32')"
      ]
     },
     "execution_count": 3,
     "metadata": {},
     "output_type": "execute_result"
    }
   ],
   "source": [
    "# Displaying datatype\n",
    "y.dtype"
   ]
  },
  {
   "cell_type": "code",
   "execution_count": 4,
   "id": "fd8a2575",
   "metadata": {},
   "outputs": [
    {
     "data": {
      "text/plain": [
       "5"
      ]
     },
     "execution_count": 4,
     "metadata": {},
     "output_type": "execute_result"
    }
   ],
   "source": [
    "# size allocated by the Series\n",
    "y.size"
   ]
  },
  {
   "cell_type": "code",
   "execution_count": 5,
   "id": "4e7cd691",
   "metadata": {},
   "outputs": [
    {
     "data": {
      "text/plain": [
       "20"
      ]
     },
     "execution_count": 5,
     "metadata": {},
     "output_type": "execute_result"
    }
   ],
   "source": [
    "#number of bytes consumed by the Series\n",
    "y.nbytes"
   ]
  },
  {
   "cell_type": "code",
   "execution_count": 6,
   "id": "eb020714",
   "metadata": {},
   "outputs": [
    {
     "data": {
      "text/plain": [
       "(5,)"
      ]
     },
     "execution_count": 6,
     "metadata": {},
     "output_type": "execute_result"
    }
   ],
   "source": [
    "# Shape of the Series\n",
    "y.shape"
   ]
  },
  {
   "cell_type": "code",
   "execution_count": 7,
   "id": "a229d9b1",
   "metadata": {},
   "outputs": [
    {
     "data": {
      "text/plain": [
       "1"
      ]
     },
     "execution_count": 7,
     "metadata": {},
     "output_type": "execute_result"
    }
   ],
   "source": [
    "# Displaying the nmuber of Dimensions\n",
    "y.ndim"
   ]
  },
  {
   "cell_type": "code",
   "execution_count": 8,
   "id": "0255aafb",
   "metadata": {},
   "outputs": [
    {
     "data": {
      "text/plain": [
       "5"
      ]
     },
     "execution_count": 8,
     "metadata": {},
     "output_type": "execute_result"
    }
   ],
   "source": [
    "# length of the Series\n",
    "len(y)"
   ]
  },
  {
   "cell_type": "code",
   "execution_count": 9,
   "id": "3cefb9ee",
   "metadata": {},
   "outputs": [
    {
     "data": {
      "text/plain": [
       "x    1\n",
       "y    2\n",
       "z    3\n",
       "dtype: int64"
      ]
     },
     "execution_count": 9,
     "metadata": {},
     "output_type": "execute_result"
    }
   ],
   "source": [
    "# Creating a Series from List\n",
    "z = pd.Series([1,2,3] , index = ['x','y','z'])\n",
    "z"
   ]
  },
  {
   "cell_type": "code",
   "execution_count": 10,
   "id": "317d4d65",
   "metadata": {},
   "outputs": [
    {
     "data": {
      "text/plain": [
       "0    1\n",
       "1    2\n",
       "2    3\n",
       "3    4\n",
       "4    5\n",
       "dtype: int32"
      ]
     },
     "execution_count": 10,
     "metadata": {},
     "output_type": "execute_result"
    }
   ],
   "source": [
    "y"
   ]
  },
  {
   "cell_type": "code",
   "execution_count": 11,
   "id": "4900b8e6",
   "metadata": {},
   "outputs": [
    {
     "data": {
      "text/plain": [
       "a    1\n",
       "b    2\n",
       "c    3\n",
       "d    4\n",
       "e    5\n",
       "dtype: int32"
      ]
     },
     "execution_count": 11,
     "metadata": {},
     "output_type": "execute_result"
    }
   ],
   "source": [
    "# Modifying Index in the Series\n",
    "a = np.array(['a','b','c','d','e'])\n",
    "y.index = a\n",
    "y"
   ]
  },
  {
   "cell_type": "code",
   "execution_count": 12,
   "id": "6cf19653",
   "metadata": {},
   "outputs": [
    {
     "data": {
      "text/plain": [
       "array([0.4549703 , 0.77336842, 0.46013888, 0.11003433, 0.64218919,\n",
       "       0.29129887, 0.82096212, 0.19069781, 0.35603118, 0.39500191])"
      ]
     },
     "execution_count": 12,
     "metadata": {},
     "output_type": "execute_result"
    }
   ],
   "source": [
    "# Creating a series from Random Function and Arange Function\n",
    "V2 = np.random.random(10)\n",
    "ind = np.arange(0 , 10)\n",
    "s = pd.Series(V2 , ind)\n",
    "V2"
   ]
  },
  {
   "cell_type": "code",
   "execution_count": 13,
   "id": "bbfceecf",
   "metadata": {},
   "outputs": [
    {
     "data": {
      "text/plain": [
       "(array([0.4549703 , 0.77336842, 0.46013888, 0.11003433, 0.64218919,\n",
       "        0.29129887, 0.82096212, 0.19069781, 0.35603118, 0.39500191]),\n",
       " array([0, 1, 2, 3, 4, 5, 6, 7, 8, 9]))"
      ]
     },
     "execution_count": 13,
     "metadata": {},
     "output_type": "execute_result"
    }
   ],
   "source": [
    "V2 , ind"
   ]
  },
  {
   "cell_type": "code",
   "execution_count": 14,
   "id": "7438325d",
   "metadata": {},
   "outputs": [
    {
     "data": {
      "text/plain": [
       "a    1\n",
       "b    2\n",
       "c    3\n",
       "d    4\n",
       "e    5\n",
       "dtype: int64"
      ]
     },
     "execution_count": 14,
     "metadata": {},
     "output_type": "execute_result"
    }
   ],
   "source": [
    "# Creatng a series from  a Dictionary\n",
    "V1 = pd.Series({'a':1 , 'b':2 , 'c':3 , 'd':4 , 'e':5})\n",
    "V1"
   ]
  },
  {
   "cell_type": "code",
   "execution_count": 15,
   "id": "0abac817",
   "metadata": {},
   "outputs": [
    {
     "data": {
      "text/plain": [
       "aa    1\n",
       "bb    2\n",
       "cc    3\n",
       "dd    4\n",
       "ee    5\n",
       "dtype: int64"
      ]
     },
     "execution_count": 15,
     "metadata": {},
     "output_type": "execute_result"
    }
   ],
   "source": [
    "m = np.array(['aa','bb','cc','dd','ee'])\n",
    "V1.index = m\n",
    "V1"
   ]
  },
  {
   "cell_type": "code",
   "execution_count": 16,
   "id": "3cb2c7e5",
   "metadata": {},
   "outputs": [
    {
     "data": {
      "text/plain": [
       "1    99\n",
       "2    99\n",
       "3    99\n",
       "4    99\n",
       "5    99\n",
       "dtype: int64"
      ]
     },
     "execution_count": 16,
     "metadata": {},
     "output_type": "execute_result"
    }
   ],
   "source": [
    "# Creating a series of a same number with different indexes\n",
    "x = pd.Series(99 , index  = [1,2,3,4,5])\n",
    "x"
   ]
  },
  {
   "cell_type": "code",
   "execution_count": 17,
   "id": "afc5aaaf",
   "metadata": {},
   "outputs": [],
   "source": [
    "#1 Different Things on Series with Pandas"
   ]
  },
  {
   "cell_type": "code",
   "execution_count": 18,
   "id": "a2907bf1",
   "metadata": {},
   "outputs": [
    {
     "data": {
      "text/plain": [
       "0    0.454970\n",
       "1    0.773368\n",
       "2    0.460139\n",
       "3    0.110034\n",
       "4    0.642189\n",
       "5    0.291299\n",
       "6    0.820962\n",
       "7    0.190698\n",
       "8    0.356031\n",
       "9    0.395002\n",
       "dtype: float64"
      ]
     },
     "execution_count": 18,
     "metadata": {},
     "output_type": "execute_result"
    }
   ],
   "source": [
    "# Slicing Series\n",
    "s"
   ]
  },
  {
   "cell_type": "code",
   "execution_count": 19,
   "id": "c9b7a29b",
   "metadata": {},
   "outputs": [
    {
     "data": {
      "text/plain": [
       "0    0.454970\n",
       "1    0.773368\n",
       "2    0.460139\n",
       "3    0.110034\n",
       "4    0.642189\n",
       "5    0.291299\n",
       "6    0.820962\n",
       "7    0.190698\n",
       "8    0.356031\n",
       "9    0.395002\n",
       "dtype: float64"
      ]
     },
     "execution_count": 19,
     "metadata": {},
     "output_type": "execute_result"
    }
   ],
   "source": [
    "# return all elements of the Series\n",
    "s[:]"
   ]
  },
  {
   "cell_type": "code",
   "execution_count": 20,
   "id": "6553563d",
   "metadata": {},
   "outputs": [],
   "source": [
    "# first 3 elements\n",
    "# last element\n",
    "# Fecth first 4 elements\n",
    "# Return all except last 2\n",
    "# Return all except last"
   ]
  },
  {
   "cell_type": "code",
   "execution_count": 21,
   "id": "0b1b6f55",
   "metadata": {},
   "outputs": [
    {
     "name": "stdout",
     "output_type": "stream",
     "text": [
      "first three 0    0.454970\n",
      "1    0.773368\n",
      "2    0.460139\n",
      "dtype: float64\n"
     ]
    }
   ],
   "source": [
    "print( 'first three', s[:3])"
   ]
  },
  {
   "cell_type": "code",
   "execution_count": 22,
   "id": "d7011941",
   "metadata": {},
   "outputs": [
    {
     "name": "stdout",
     "output_type": "stream",
     "text": [
      "last element 9    0.395002\n",
      "dtype: float64\n"
     ]
    }
   ],
   "source": [
    "print('last element' , s[-1:])"
   ]
  },
  {
   "cell_type": "code",
   "execution_count": 23,
   "id": "2809813b",
   "metadata": {},
   "outputs": [
    {
     "name": "stdout",
     "output_type": "stream",
     "text": [
      "first four element 0    0.454970\n",
      "1    0.773368\n",
      "2    0.460139\n",
      "dtype: float64\n"
     ]
    }
   ],
   "source": [
    "print('first four element' , s[:3])"
   ]
  },
  {
   "cell_type": "code",
   "execution_count": 24,
   "id": "c487ec6a",
   "metadata": {},
   "outputs": [
    {
     "name": "stdout",
     "output_type": "stream",
     "text": [
      "Return all except last 2 0    0.454970\n",
      "1    0.773368\n",
      "2    0.460139\n",
      "3    0.110034\n",
      "4    0.642189\n",
      "5    0.291299\n",
      "6    0.820962\n",
      "7    0.190698\n",
      "dtype: float64\n"
     ]
    }
   ],
   "source": [
    "print('Return all except last 2' , s[:-2])"
   ]
  },
  {
   "cell_type": "code",
   "execution_count": 25,
   "id": "22192dad",
   "metadata": {},
   "outputs": [
    {
     "name": "stdout",
     "output_type": "stream",
     "text": [
      "Return all except last  0    0.454970\n",
      "1    0.773368\n",
      "2    0.460139\n",
      "3    0.110034\n",
      "4    0.642189\n",
      "5    0.291299\n",
      "6    0.820962\n",
      "7    0.190698\n",
      "8    0.356031\n",
      "dtype: float64\n"
     ]
    }
   ],
   "source": [
    "print('Return all except last ' , s[:-1])"
   ]
  },
  {
   "cell_type": "code",
   "execution_count": 26,
   "id": "6485af15",
   "metadata": {},
   "outputs": [
    {
     "name": "stdout",
     "output_type": "stream",
     "text": [
      "8    0.356031\n",
      "9    0.395002\n",
      "dtype: float64\n",
      "Series([], dtype: float64)\n"
     ]
    },
    {
     "data": {
      "text/plain": [
       "9    0.395002\n",
       "dtype: float64"
      ]
     },
     "execution_count": 26,
     "metadata": {},
     "output_type": "execute_result"
    }
   ],
   "source": [
    "# Return last 2 elements of the Series\n",
    "print(s[-2:])\n",
    "print(s[-1:-3])\n",
    "# return last element  of the Series\n",
    "s[-1:]"
   ]
  },
  {
   "cell_type": "code",
   "execution_count": 27,
   "id": "5eaeb528",
   "metadata": {},
   "outputs": [],
   "source": [
    "#1.2 Append Series"
   ]
  },
  {
   "cell_type": "code",
   "execution_count": 28,
   "id": "4aa6fa98",
   "metadata": {},
   "outputs": [
    {
     "data": {
      "text/plain": [
       "a    1\n",
       "b    2\n",
       "c    3\n",
       "d    4\n",
       "e    5\n",
       "f    6\n",
       "g    7\n",
       "dtype: int32"
      ]
     },
     "execution_count": 28,
     "metadata": {},
     "output_type": "execute_result"
    }
   ],
   "source": [
    "s1 = pd.Series(np.arange(1,8) , index = ['a','b','c','d','e','f','g'])\n",
    "s1"
   ]
  },
  {
   "cell_type": "code",
   "execution_count": 29,
   "id": "e142c136",
   "metadata": {},
   "outputs": [
    {
     "data": {
      "text/plain": [
       "aa    1\n",
       "bb    2\n",
       "cc    3\n",
       "dd    4\n",
       "ee    5\n",
       "dtype: int64"
      ]
     },
     "execution_count": 29,
     "metadata": {},
     "output_type": "execute_result"
    }
   ],
   "source": [
    "V1"
   ]
  },
  {
   "cell_type": "code",
   "execution_count": 30,
   "id": "fd85145b",
   "metadata": {},
   "outputs": [
    {
     "data": {
      "text/plain": [
       "a    1\n",
       "b    2\n",
       "c    3\n",
       "d    4\n",
       "e    5\n",
       "f    6\n",
       "g    7\n",
       "dtype: int32"
      ]
     },
     "execution_count": 30,
     "metadata": {},
     "output_type": "execute_result"
    }
   ],
   "source": [
    "s2 = s1.copy()\n",
    "s2"
   ]
  },
  {
   "cell_type": "code",
   "execution_count": 31,
   "id": "1efc0ce7",
   "metadata": {},
   "outputs": [
    {
     "data": {
      "text/plain": [
       "aa    1\n",
       "bb    2\n",
       "cc    3\n",
       "dd    4\n",
       "ee    5\n",
       "dtype: int64"
      ]
     },
     "execution_count": 31,
     "metadata": {},
     "output_type": "execute_result"
    }
   ],
   "source": [
    "V1"
   ]
  },
  {
   "cell_type": "code",
   "execution_count": 32,
   "id": "a7131f93",
   "metadata": {},
   "outputs": [
    {
     "name": "stderr",
     "output_type": "stream",
     "text": [
      "C:\\Users\\Shree123\\AppData\\Local\\Temp\\ipykernel_32228\\3138531456.py:1: FutureWarning: The series.append method is deprecated and will be removed from pandas in a future version. Use pandas.concat instead.\n",
      "  s4 = s2.append(V1)\n"
     ]
    },
    {
     "data": {
      "text/plain": [
       "a     1\n",
       "b     2\n",
       "c     3\n",
       "d     4\n",
       "e     5\n",
       "f     6\n",
       "g     7\n",
       "aa    1\n",
       "bb    2\n",
       "cc    3\n",
       "dd    4\n",
       "ee    5\n",
       "dtype: int64"
      ]
     },
     "execution_count": 32,
     "metadata": {},
     "output_type": "execute_result"
    }
   ],
   "source": [
    "s4 = s2.append(V1)\n",
    "s4"
   ]
  },
  {
   "cell_type": "code",
   "execution_count": 33,
   "id": "11fabec2",
   "metadata": {},
   "outputs": [
    {
     "data": {
      "text/plain": [
       "a     1\n",
       "b     2\n",
       "c     3\n",
       "d     4\n",
       "e     5\n",
       "f     6\n",
       "aa    1\n",
       "bb    2\n",
       "cc    3\n",
       "dd    4\n",
       "ee    5\n",
       "dtype: int64"
      ]
     },
     "execution_count": 33,
     "metadata": {},
     "output_type": "execute_result"
    }
   ],
   "source": [
    "s4.drop('g' , inplace = False)"
   ]
  },
  {
   "cell_type": "code",
   "execution_count": 34,
   "id": "4b98982f",
   "metadata": {},
   "outputs": [
    {
     "data": {
      "text/plain": [
       "a     1\n",
       "b     2\n",
       "c     3\n",
       "d     4\n",
       "e     5\n",
       "f     6\n",
       "g     7\n",
       "aa    1\n",
       "bb    2\n",
       "cc    3\n",
       "dd    4\n",
       "ee    5\n",
       "dtype: int64"
      ]
     },
     "execution_count": 34,
     "metadata": {},
     "output_type": "execute_result"
    }
   ],
   "source": [
    "s4"
   ]
  },
  {
   "cell_type": "code",
   "execution_count": 35,
   "id": "ca4931b2",
   "metadata": {},
   "outputs": [
    {
     "data": {
      "text/plain": [
       "a     1\n",
       "b     2\n",
       "c     3\n",
       "d     4\n",
       "e     5\n",
       "f     6\n",
       "aa    1\n",
       "bb    2\n",
       "cc    3\n",
       "dd    4\n",
       "ee    5\n",
       "dtype: int64"
      ]
     },
     "execution_count": 35,
     "metadata": {},
     "output_type": "execute_result"
    }
   ],
   "source": [
    "s4.drop('g' , inplace = True)\n",
    "s4"
   ]
  },
  {
   "cell_type": "code",
   "execution_count": 36,
   "id": "4ea566ee",
   "metadata": {},
   "outputs": [],
   "source": [
    "#1.3 Operation on Series"
   ]
  },
  {
   "cell_type": "code",
   "execution_count": 37,
   "id": "ed5780ad",
   "metadata": {},
   "outputs": [
    {
     "data": {
      "text/plain": [
       "(0    10\n",
       " 1    20\n",
       " 2    30\n",
       " dtype: int32,\n",
       " 0    1\n",
       " 1    2\n",
       " 2    3\n",
       " dtype: int32)"
      ]
     },
     "execution_count": 37,
     "metadata": {},
     "output_type": "execute_result"
    }
   ],
   "source": [
    "V1  = np.array([10,20,30])\n",
    "V2 = np.array([1,2,3])\n",
    "s1 = pd.Series(V1)\n",
    "s2 = pd.Series(V2)\n",
    "s1,s2"
   ]
  },
  {
   "cell_type": "code",
   "execution_count": 38,
   "id": "fa79deb8",
   "metadata": {},
   "outputs": [
    {
     "data": {
      "text/plain": [
       "0    11\n",
       "1    22\n",
       "2    33\n",
       "dtype: int32"
      ]
     },
     "execution_count": 38,
     "metadata": {},
     "output_type": "execute_result"
    }
   ],
   "source": [
    "# Adding 2 series\n",
    "s1.add(s2)"
   ]
  },
  {
   "cell_type": "code",
   "execution_count": 39,
   "id": "96d9daca",
   "metadata": {},
   "outputs": [
    {
     "data": {
      "text/plain": [
       "0    11\n",
       "1    22\n",
       "2    33\n",
       "dtype: int32"
      ]
     },
     "execution_count": 39,
     "metadata": {},
     "output_type": "execute_result"
    }
   ],
   "source": [
    "s2.add(s1)"
   ]
  },
  {
   "cell_type": "code",
   "execution_count": 40,
   "id": "d151e2be",
   "metadata": {},
   "outputs": [
    {
     "data": {
      "text/plain": [
       "0     9\n",
       "1    18\n",
       "2    27\n",
       "dtype: int32"
      ]
     },
     "execution_count": 40,
     "metadata": {},
     "output_type": "execute_result"
    }
   ],
   "source": [
    "# Subtracting 2 series\n",
    "s1.sub(s2)"
   ]
  },
  {
   "cell_type": "code",
   "execution_count": 41,
   "id": "4928790e",
   "metadata": {},
   "outputs": [
    {
     "data": {
      "text/plain": [
       "0    -9\n",
       "1   -18\n",
       "2   -27\n",
       "dtype: int32"
      ]
     },
     "execution_count": 41,
     "metadata": {},
     "output_type": "execute_result"
    }
   ],
   "source": [
    "s2.sub(s1)"
   ]
  },
  {
   "cell_type": "code",
   "execution_count": 42,
   "id": "427f2755",
   "metadata": {},
   "outputs": [
    {
     "data": {
      "text/plain": [
       "0    18\n",
       "1    28\n",
       "2    38\n",
       "dtype: int32"
      ]
     },
     "execution_count": 42,
     "metadata": {},
     "output_type": "execute_result"
    }
   ],
   "source": [
    "# Increment values in an individual series\n",
    "s1.add(8)"
   ]
  },
  {
   "cell_type": "code",
   "execution_count": 43,
   "id": "c4fb46d5",
   "metadata": {},
   "outputs": [
    {
     "data": {
      "text/plain": [
       "0     2\n",
       "1    12\n",
       "2    22\n",
       "dtype: int32"
      ]
     },
     "execution_count": 43,
     "metadata": {},
     "output_type": "execute_result"
    }
   ],
   "source": [
    "s1.sub(8)"
   ]
  },
  {
   "cell_type": "code",
   "execution_count": 44,
   "id": "abc5aa8a",
   "metadata": {},
   "outputs": [
    {
     "name": "stdout",
     "output_type": "stream",
     "text": [
      "0    10\n",
      "1    40\n",
      "2    90\n",
      "dtype: int32\n",
      "0    10.0\n",
      "1    10.0\n",
      "2    10.0\n",
      "dtype: float64\n"
     ]
    }
   ],
   "source": [
    "# multiply and divide each series \n",
    "print(s1.multiply(s2))\n",
    "print(s1.divide(s2))"
   ]
  },
  {
   "cell_type": "code",
   "execution_count": 45,
   "id": "5f6542cf",
   "metadata": {},
   "outputs": [
    {
     "data": {
      "text/plain": [
       "0    10000\n",
       "1    20000\n",
       "2    30000\n",
       "dtype: int32"
      ]
     },
     "execution_count": 45,
     "metadata": {},
     "output_type": "execute_result"
    }
   ],
   "source": [
    "# Mulitply individual series by 1000\n",
    "s1.multiply(1000)"
   ]
  },
  {
   "cell_type": "code",
   "execution_count": 46,
   "id": "1c9f83e0",
   "metadata": {},
   "outputs": [
    {
     "name": "stdout",
     "output_type": "stream",
     "text": [
      "30\n",
      "10\n"
     ]
    }
   ],
   "source": [
    "print(s1.max())\n",
    "print(s1.min())"
   ]
  },
  {
   "cell_type": "code",
   "execution_count": 47,
   "id": "f8c49bf1",
   "metadata": {},
   "outputs": [],
   "source": [
    "s4 = s1"
   ]
  },
  {
   "cell_type": "code",
   "execution_count": 48,
   "id": "bc6bc988",
   "metadata": {},
   "outputs": [
    {
     "data": {
      "text/plain": [
       "True"
      ]
     },
     "execution_count": 48,
     "metadata": {},
     "output_type": "execute_result"
    }
   ],
   "source": [
    "s1.equals(s4)"
   ]
  },
  {
   "cell_type": "code",
   "execution_count": 49,
   "id": "08832d42",
   "metadata": {},
   "outputs": [
    {
     "data": {
      "text/plain": [
       "0    1\n",
       "1    1\n",
       "2    2\n",
       "3    2\n",
       "4    3\n",
       "5    3\n",
       "dtype: int64"
      ]
     },
     "execution_count": 49,
     "metadata": {},
     "output_type": "execute_result"
    }
   ],
   "source": [
    "s5 = pd.Series([1,1,2,2,3,3] , index = [0,1,2,3,4,5])\n",
    "s5"
   ]
  },
  {
   "cell_type": "code",
   "execution_count": 50,
   "id": "d50a2daf",
   "metadata": {},
   "outputs": [
    {
     "data": {
      "text/plain": [
       "1    2\n",
       "2    2\n",
       "3    2\n",
       "dtype: int64"
      ]
     },
     "execution_count": 50,
     "metadata": {},
     "output_type": "execute_result"
    }
   ],
   "source": [
    "# afind frequency\n",
    "s5.value_counts()"
   ]
  },
  {
   "cell_type": "code",
   "execution_count": 51,
   "id": "59c92c9a",
   "metadata": {},
   "outputs": [],
   "source": [
    "# 2 DataFrame"
   ]
  },
  {
   "cell_type": "code",
   "execution_count": 52,
   "id": "d10641a9",
   "metadata": {},
   "outputs": [],
   "source": [
    "# 2.1 Create DataFrame"
   ]
  },
  {
   "cell_type": "code",
   "execution_count": 53,
   "id": "91aaa4d2",
   "metadata": {},
   "outputs": [
    {
     "data": {
      "text/html": [
       "<div>\n",
       "<style scoped>\n",
       "    .dataframe tbody tr th:only-of-type {\n",
       "        vertical-align: middle;\n",
       "    }\n",
       "\n",
       "    .dataframe tbody tr th {\n",
       "        vertical-align: top;\n",
       "    }\n",
       "\n",
       "    .dataframe thead th {\n",
       "        text-align: right;\n",
       "    }\n",
       "</style>\n",
       "<table border=\"1\" class=\"dataframe\">\n",
       "  <thead>\n",
       "    <tr style=\"text-align: right;\">\n",
       "      <th></th>\n",
       "      <th>0</th>\n",
       "    </tr>\n",
       "  </thead>\n",
       "  <tbody>\n",
       "    <tr>\n",
       "      <th>0</th>\n",
       "      <td>Java</td>\n",
       "    </tr>\n",
       "    <tr>\n",
       "      <th>1</th>\n",
       "      <td>Python</td>\n",
       "    </tr>\n",
       "    <tr>\n",
       "      <th>2</th>\n",
       "      <td>Sql</td>\n",
       "    </tr>\n",
       "    <tr>\n",
       "      <th>3</th>\n",
       "      <td>C++</td>\n",
       "    </tr>\n",
       "  </tbody>\n",
       "</table>\n",
       "</div>"
      ],
      "text/plain": [
       "        0\n",
       "0    Java\n",
       "1  Python\n",
       "2     Sql\n",
       "3     C++"
      ]
     },
     "execution_count": 53,
     "metadata": {},
     "output_type": "execute_result"
    }
   ],
   "source": [
    "lang = ['Java' , 'Python' , 'Sql' , 'C++']\n",
    "x = pd.DataFrame(lang)\n",
    "x"
   ]
  },
  {
   "cell_type": "code",
   "execution_count": 54,
   "id": "e838474c",
   "metadata": {},
   "outputs": [],
   "source": [
    "# Adding a column in a dataframe"
   ]
  },
  {
   "cell_type": "code",
   "execution_count": 55,
   "id": "3bf80707",
   "metadata": {},
   "outputs": [
    {
     "data": {
      "text/html": [
       "<div>\n",
       "<style scoped>\n",
       "    .dataframe tbody tr th:only-of-type {\n",
       "        vertical-align: middle;\n",
       "    }\n",
       "\n",
       "    .dataframe tbody tr th {\n",
       "        vertical-align: top;\n",
       "    }\n",
       "\n",
       "    .dataframe thead th {\n",
       "        text-align: right;\n",
       "    }\n",
       "</style>\n",
       "<table border=\"1\" class=\"dataframe\">\n",
       "  <thead>\n",
       "    <tr style=\"text-align: right;\">\n",
       "      <th></th>\n",
       "      <th>0</th>\n",
       "      <th>1</th>\n",
       "    </tr>\n",
       "  </thead>\n",
       "  <tbody>\n",
       "    <tr>\n",
       "      <th>0</th>\n",
       "      <td>Java</td>\n",
       "      <td>1</td>\n",
       "    </tr>\n",
       "    <tr>\n",
       "      <th>1</th>\n",
       "      <td>Python</td>\n",
       "      <td>2</td>\n",
       "    </tr>\n",
       "    <tr>\n",
       "      <th>2</th>\n",
       "      <td>Sql</td>\n",
       "      <td>3</td>\n",
       "    </tr>\n",
       "    <tr>\n",
       "      <th>3</th>\n",
       "      <td>C++</td>\n",
       "      <td>4</td>\n",
       "    </tr>\n",
       "  </tbody>\n",
       "</table>\n",
       "</div>"
      ],
      "text/plain": [
       "        0  1\n",
       "0    Java  1\n",
       "1  Python  2\n",
       "2     Sql  3\n",
       "3     C++  4"
      ]
     },
     "execution_count": 55,
     "metadata": {},
     "output_type": "execute_result"
    }
   ],
   "source": [
    "rating = [1,2,3,4]\n",
    "x[1] = rating\n",
    "x"
   ]
  },
  {
   "cell_type": "code",
   "execution_count": 56,
   "id": "b4f2649b",
   "metadata": {},
   "outputs": [],
   "source": [
    "# Renaming Columns\n",
    "x.columns = ['Language' , 'Rating']"
   ]
  },
  {
   "cell_type": "code",
   "execution_count": 57,
   "id": "8a16ca4c",
   "metadata": {},
   "outputs": [
    {
     "data": {
      "text/html": [
       "<div>\n",
       "<style scoped>\n",
       "    .dataframe tbody tr th:only-of-type {\n",
       "        vertical-align: middle;\n",
       "    }\n",
       "\n",
       "    .dataframe tbody tr th {\n",
       "        vertical-align: top;\n",
       "    }\n",
       "\n",
       "    .dataframe thead th {\n",
       "        text-align: right;\n",
       "    }\n",
       "</style>\n",
       "<table border=\"1\" class=\"dataframe\">\n",
       "  <thead>\n",
       "    <tr style=\"text-align: right;\">\n",
       "      <th></th>\n",
       "      <th>Language</th>\n",
       "      <th>Rating</th>\n",
       "    </tr>\n",
       "  </thead>\n",
       "  <tbody>\n",
       "    <tr>\n",
       "      <th>0</th>\n",
       "      <td>Java</td>\n",
       "      <td>1</td>\n",
       "    </tr>\n",
       "    <tr>\n",
       "      <th>1</th>\n",
       "      <td>Python</td>\n",
       "      <td>2</td>\n",
       "    </tr>\n",
       "    <tr>\n",
       "      <th>2</th>\n",
       "      <td>Sql</td>\n",
       "      <td>3</td>\n",
       "    </tr>\n",
       "    <tr>\n",
       "      <th>3</th>\n",
       "      <td>C++</td>\n",
       "      <td>4</td>\n",
       "    </tr>\n",
       "  </tbody>\n",
       "</table>\n",
       "</div>"
      ],
      "text/plain": [
       "  Language  Rating\n",
       "0     Java       1\n",
       "1   Python       2\n",
       "2      Sql       3\n",
       "3      C++       4"
      ]
     },
     "execution_count": 57,
     "metadata": {},
     "output_type": "execute_result"
    }
   ],
   "source": [
    "x"
   ]
  },
  {
   "cell_type": "code",
   "execution_count": 1,
   "id": "5c44fc4b",
   "metadata": {},
   "outputs": [],
   "source": [
    "import pandas as pd\n",
    "import numpy as np"
   ]
  },
  {
   "cell_type": "code",
   "execution_count": 2,
   "id": "1e9d7909",
   "metadata": {},
   "outputs": [],
   "source": [
    "# Creating a dataframe from a dictionary "
   ]
  },
  {
   "cell_type": "code",
   "execution_count": 26,
   "id": "98a1500c",
   "metadata": {},
   "outputs": [],
   "source": [
    "data = [{'a':1, 'b':2}, {'a':5, 'b':10, 'c':20}]\n",
    "df2 = pd.DataFrame(data)\n",
    "df3 = pd.DataFrame(data, index=['row1', 'row2'], columns = ['a','b'])\n",
    "df4 = pd.DataFrame(data, index=['row1', 'row2'], columns = ['a','b','c'])\n",
    "df5 = pd.DataFrame(data, index=['row1', 'row2'], columns = ['a','b','c','d'])"
   ]
  },
  {
   "cell_type": "code",
   "execution_count": 27,
   "id": "a69ec2ab",
   "metadata": {},
   "outputs": [
    {
     "data": {
      "text/html": [
       "<div>\n",
       "<style scoped>\n",
       "    .dataframe tbody tr th:only-of-type {\n",
       "        vertical-align: middle;\n",
       "    }\n",
       "\n",
       "    .dataframe tbody tr th {\n",
       "        vertical-align: top;\n",
       "    }\n",
       "\n",
       "    .dataframe thead th {\n",
       "        text-align: right;\n",
       "    }\n",
       "</style>\n",
       "<table border=\"1\" class=\"dataframe\">\n",
       "  <thead>\n",
       "    <tr style=\"text-align: right;\">\n",
       "      <th></th>\n",
       "      <th>a</th>\n",
       "      <th>b</th>\n",
       "      <th>c</th>\n",
       "    </tr>\n",
       "  </thead>\n",
       "  <tbody>\n",
       "    <tr>\n",
       "      <th>0</th>\n",
       "      <td>1</td>\n",
       "      <td>2</td>\n",
       "      <td>NaN</td>\n",
       "    </tr>\n",
       "    <tr>\n",
       "      <th>1</th>\n",
       "      <td>5</td>\n",
       "      <td>10</td>\n",
       "      <td>20.0</td>\n",
       "    </tr>\n",
       "  </tbody>\n",
       "</table>\n",
       "</div>"
      ],
      "text/plain": [
       "   a   b     c\n",
       "0  1   2   NaN\n",
       "1  5  10  20.0"
      ]
     },
     "execution_count": 27,
     "metadata": {},
     "output_type": "execute_result"
    }
   ],
   "source": [
    "df2"
   ]
  },
  {
   "cell_type": "code",
   "execution_count": 24,
   "id": "e268f76a",
   "metadata": {},
   "outputs": [
    {
     "data": {
      "text/html": [
       "<div>\n",
       "<style scoped>\n",
       "    .dataframe tbody tr th:only-of-type {\n",
       "        vertical-align: middle;\n",
       "    }\n",
       "\n",
       "    .dataframe tbody tr th {\n",
       "        vertical-align: top;\n",
       "    }\n",
       "\n",
       "    .dataframe thead th {\n",
       "        text-align: right;\n",
       "    }\n",
       "</style>\n",
       "<table border=\"1\" class=\"dataframe\">\n",
       "  <thead>\n",
       "    <tr style=\"text-align: right;\">\n",
       "      <th></th>\n",
       "      <th>a</th>\n",
       "      <th>b</th>\n",
       "    </tr>\n",
       "  </thead>\n",
       "  <tbody>\n",
       "    <tr>\n",
       "      <th>row1</th>\n",
       "      <td>1</td>\n",
       "      <td>2</td>\n",
       "    </tr>\n",
       "    <tr>\n",
       "      <th>row2</th>\n",
       "      <td>5</td>\n",
       "      <td>10</td>\n",
       "    </tr>\n",
       "  </tbody>\n",
       "</table>\n",
       "</div>"
      ],
      "text/plain": [
       "      a   b\n",
       "row1  1   2\n",
       "row2  5  10"
      ]
     },
     "execution_count": 24,
     "metadata": {},
     "output_type": "execute_result"
    }
   ],
   "source": [
    "df3"
   ]
  },
  {
   "cell_type": "code",
   "execution_count": 25,
   "id": "348ec13f",
   "metadata": {},
   "outputs": [
    {
     "data": {
      "text/html": [
       "<div>\n",
       "<style scoped>\n",
       "    .dataframe tbody tr th:only-of-type {\n",
       "        vertical-align: middle;\n",
       "    }\n",
       "\n",
       "    .dataframe tbody tr th {\n",
       "        vertical-align: top;\n",
       "    }\n",
       "\n",
       "    .dataframe thead th {\n",
       "        text-align: right;\n",
       "    }\n",
       "</style>\n",
       "<table border=\"1\" class=\"dataframe\">\n",
       "  <thead>\n",
       "    <tr style=\"text-align: right;\">\n",
       "      <th></th>\n",
       "      <th>a</th>\n",
       "      <th>b</th>\n",
       "      <th>c</th>\n",
       "    </tr>\n",
       "  </thead>\n",
       "  <tbody>\n",
       "    <tr>\n",
       "      <th>row1</th>\n",
       "      <td>1</td>\n",
       "      <td>2</td>\n",
       "      <td>NaN</td>\n",
       "    </tr>\n",
       "    <tr>\n",
       "      <th>row2</th>\n",
       "      <td>5</td>\n",
       "      <td>10</td>\n",
       "      <td>20.0</td>\n",
       "    </tr>\n",
       "  </tbody>\n",
       "</table>\n",
       "</div>"
      ],
      "text/plain": [
       "      a   b     c\n",
       "row1  1   2   NaN\n",
       "row2  5  10  20.0"
      ]
     },
     "execution_count": 25,
     "metadata": {},
     "output_type": "execute_result"
    }
   ],
   "source": [
    "df4"
   ]
  },
  {
   "cell_type": "code",
   "execution_count": 17,
   "id": "b099638d",
   "metadata": {},
   "outputs": [
    {
     "data": {
      "text/html": [
       "<div>\n",
       "<style scoped>\n",
       "    .dataframe tbody tr th:only-of-type {\n",
       "        vertical-align: middle;\n",
       "    }\n",
       "\n",
       "    .dataframe tbody tr th {\n",
       "        vertical-align: top;\n",
       "    }\n",
       "\n",
       "    .dataframe thead th {\n",
       "        text-align: right;\n",
       "    }\n",
       "</style>\n",
       "<table border=\"1\" class=\"dataframe\">\n",
       "  <thead>\n",
       "    <tr style=\"text-align: right;\">\n",
       "      <th></th>\n",
       "      <th>Name</th>\n",
       "      <th>Age</th>\n",
       "      <th>Add</th>\n",
       "    </tr>\n",
       "  </thead>\n",
       "  <tbody>\n",
       "    <tr>\n",
       "      <th>0</th>\n",
       "      <td>[x, y, z, abc]</td>\n",
       "      <td>[12, 32, 45, 62]</td>\n",
       "      <td>NaN</td>\n",
       "    </tr>\n",
       "    <tr>\n",
       "      <th>1</th>\n",
       "      <td>NaN</td>\n",
       "      <td>NaN</td>\n",
       "      <td>[wallstreet, pearson, silkson, silicon valley]</td>\n",
       "    </tr>\n",
       "  </tbody>\n",
       "</table>\n",
       "</div>"
      ],
      "text/plain": [
       "             Name               Age  \\\n",
       "0  [x, y, z, abc]  [12, 32, 45, 62]   \n",
       "1             NaN               NaN   \n",
       "\n",
       "                                              Add  \n",
       "0                                             NaN  \n",
       "1  [wallstreet, pearson, silkson, silicon valley]  "
      ]
     },
     "execution_count": 17,
     "metadata": {},
     "output_type": "execute_result"
    }
   ],
   "source": [
    "data2 =  pd.DataFrame(data)\n",
    "data2"
   ]
  },
  {
   "cell_type": "code",
   "execution_count": 39,
   "id": "39e0954d",
   "metadata": {},
   "outputs": [],
   "source": [
    "data3 ={'Name' : ['x','y','z','abc'],\n",
    "                    'Age': [12,32,45,62] ,'Add': ['wallstreet','pearson','silkson','silicon valley']}"
   ]
  },
  {
   "cell_type": "code",
   "execution_count": 40,
   "id": "91a8b8dc",
   "metadata": {},
   "outputs": [
    {
     "data": {
      "text/html": [
       "<div>\n",
       "<style scoped>\n",
       "    .dataframe tbody tr th:only-of-type {\n",
       "        vertical-align: middle;\n",
       "    }\n",
       "\n",
       "    .dataframe tbody tr th {\n",
       "        vertical-align: top;\n",
       "    }\n",
       "\n",
       "    .dataframe thead th {\n",
       "        text-align: right;\n",
       "    }\n",
       "</style>\n",
       "<table border=\"1\" class=\"dataframe\">\n",
       "  <thead>\n",
       "    <tr style=\"text-align: right;\">\n",
       "      <th></th>\n",
       "      <th>Name</th>\n",
       "      <th>Age</th>\n",
       "      <th>Add</th>\n",
       "    </tr>\n",
       "  </thead>\n",
       "  <tbody>\n",
       "    <tr>\n",
       "      <th>0</th>\n",
       "      <td>x</td>\n",
       "      <td>12</td>\n",
       "      <td>wallstreet</td>\n",
       "    </tr>\n",
       "    <tr>\n",
       "      <th>1</th>\n",
       "      <td>y</td>\n",
       "      <td>32</td>\n",
       "      <td>pearson</td>\n",
       "    </tr>\n",
       "    <tr>\n",
       "      <th>2</th>\n",
       "      <td>z</td>\n",
       "      <td>45</td>\n",
       "      <td>silkson</td>\n",
       "    </tr>\n",
       "    <tr>\n",
       "      <th>3</th>\n",
       "      <td>abc</td>\n",
       "      <td>62</td>\n",
       "      <td>silicon valley</td>\n",
       "    </tr>\n",
       "  </tbody>\n",
       "</table>\n",
       "</div>"
      ],
      "text/plain": [
       "  Name  Age             Add\n",
       "0    x   12      wallstreet\n",
       "1    y   32         pearson\n",
       "2    z   45         silkson\n",
       "3  abc   62  silicon valley"
      ]
     },
     "execution_count": 40,
     "metadata": {},
     "output_type": "execute_result"
    }
   ],
   "source": [
    "data4 = pd.DataFrame(data3)\n",
    "data4"
   ]
  },
  {
   "cell_type": "code",
   "execution_count": 37,
   "id": "adf72373",
   "metadata": {},
   "outputs": [],
   "source": [
    "arr_ind = np.array(['a','b','c','d'])"
   ]
  },
  {
   "cell_type": "code",
   "execution_count": 41,
   "id": "b95d6974",
   "metadata": {},
   "outputs": [
    {
     "data": {
      "text/html": [
       "<div>\n",
       "<style scoped>\n",
       "    .dataframe tbody tr th:only-of-type {\n",
       "        vertical-align: middle;\n",
       "    }\n",
       "\n",
       "    .dataframe tbody tr th {\n",
       "        vertical-align: top;\n",
       "    }\n",
       "\n",
       "    .dataframe thead th {\n",
       "        text-align: right;\n",
       "    }\n",
       "</style>\n",
       "<table border=\"1\" class=\"dataframe\">\n",
       "  <thead>\n",
       "    <tr style=\"text-align: right;\">\n",
       "      <th></th>\n",
       "      <th>Name</th>\n",
       "      <th>Age</th>\n",
       "      <th>Add</th>\n",
       "    </tr>\n",
       "  </thead>\n",
       "  <tbody>\n",
       "    <tr>\n",
       "      <th>a</th>\n",
       "      <td>x</td>\n",
       "      <td>12</td>\n",
       "      <td>wallstreet</td>\n",
       "    </tr>\n",
       "    <tr>\n",
       "      <th>b</th>\n",
       "      <td>y</td>\n",
       "      <td>32</td>\n",
       "      <td>pearson</td>\n",
       "    </tr>\n",
       "    <tr>\n",
       "      <th>c</th>\n",
       "      <td>z</td>\n",
       "      <td>45</td>\n",
       "      <td>silkson</td>\n",
       "    </tr>\n",
       "    <tr>\n",
       "      <th>d</th>\n",
       "      <td>abc</td>\n",
       "      <td>62</td>\n",
       "      <td>silicon valley</td>\n",
       "    </tr>\n",
       "  </tbody>\n",
       "</table>\n",
       "</div>"
      ],
      "text/plain": [
       "  Name  Age             Add\n",
       "a    x   12      wallstreet\n",
       "b    y   32         pearson\n",
       "c    z   45         silkson\n",
       "d  abc   62  silicon valley"
      ]
     },
     "execution_count": 41,
     "metadata": {},
     "output_type": "execute_result"
    }
   ],
   "source": [
    "data5 = pd.DataFrame(data3 , index = arr_ind)\n",
    "data5"
   ]
  },
  {
   "cell_type": "code",
   "execution_count": 42,
   "id": "6ce84888",
   "metadata": {},
   "outputs": [
    {
     "data": {
      "text/html": [
       "<div>\n",
       "<style scoped>\n",
       "    .dataframe tbody tr th:only-of-type {\n",
       "        vertical-align: middle;\n",
       "    }\n",
       "\n",
       "    .dataframe tbody tr th {\n",
       "        vertical-align: top;\n",
       "    }\n",
       "\n",
       "    .dataframe thead th {\n",
       "        text-align: right;\n",
       "    }\n",
       "</style>\n",
       "<table border=\"1\" class=\"dataframe\">\n",
       "  <thead>\n",
       "    <tr style=\"text-align: right;\">\n",
       "      <th></th>\n",
       "      <th>Name</th>\n",
       "      <th>Age</th>\n",
       "      <th>Add</th>\n",
       "    </tr>\n",
       "  </thead>\n",
       "  <tbody>\n",
       "    <tr>\n",
       "      <th>ab</th>\n",
       "      <td>x</td>\n",
       "      <td>12</td>\n",
       "      <td>wallstreet</td>\n",
       "    </tr>\n",
       "    <tr>\n",
       "      <th>bc</th>\n",
       "      <td>y</td>\n",
       "      <td>32</td>\n",
       "      <td>pearson</td>\n",
       "    </tr>\n",
       "    <tr>\n",
       "      <th>cd</th>\n",
       "      <td>z</td>\n",
       "      <td>45</td>\n",
       "      <td>silkson</td>\n",
       "    </tr>\n",
       "    <tr>\n",
       "      <th>df</th>\n",
       "      <td>abc</td>\n",
       "      <td>62</td>\n",
       "      <td>silicon valley</td>\n",
       "    </tr>\n",
       "  </tbody>\n",
       "</table>\n",
       "</div>"
      ],
      "text/plain": [
       "   Name  Age             Add\n",
       "ab    x   12      wallstreet\n",
       "bc    y   32         pearson\n",
       "cd    z   45         silkson\n",
       "df  abc   62  silicon valley"
      ]
     },
     "execution_count": 42,
     "metadata": {},
     "output_type": "execute_result"
    }
   ],
   "source": [
    "data6 = pd.DataFrame(data3 , index = ['ab','bc','cd','df'])\n",
    "data6"
   ]
  },
  {
   "cell_type": "code",
   "execution_count": 43,
   "id": "d99ee9f5",
   "metadata": {},
   "outputs": [],
   "source": [
    "# Create a dataframe from a series of dictionary"
   ]
  },
  {
   "cell_type": "code",
   "execution_count": 46,
   "id": "c9514e1d",
   "metadata": {},
   "outputs": [
    {
     "data": {
      "text/html": [
       "<div>\n",
       "<style scoped>\n",
       "    .dataframe tbody tr th:only-of-type {\n",
       "        vertical-align: middle;\n",
       "    }\n",
       "\n",
       "    .dataframe tbody tr th {\n",
       "        vertical-align: top;\n",
       "    }\n",
       "\n",
       "    .dataframe thead th {\n",
       "        text-align: right;\n",
       "    }\n",
       "</style>\n",
       "<table border=\"1\" class=\"dataframe\">\n",
       "  <thead>\n",
       "    <tr style=\"text-align: right;\">\n",
       "      <th></th>\n",
       "      <th>A</th>\n",
       "      <th>B</th>\n",
       "    </tr>\n",
       "  </thead>\n",
       "  <tbody>\n",
       "    <tr>\n",
       "      <th>a</th>\n",
       "      <td>1.0</td>\n",
       "      <td>1</td>\n",
       "    </tr>\n",
       "    <tr>\n",
       "      <th>b</th>\n",
       "      <td>2.0</td>\n",
       "      <td>3</td>\n",
       "    </tr>\n",
       "    <tr>\n",
       "      <th>c</th>\n",
       "      <td>3.0</td>\n",
       "      <td>2</td>\n",
       "    </tr>\n",
       "    <tr>\n",
       "      <th>d</th>\n",
       "      <td>NaN</td>\n",
       "      <td>4</td>\n",
       "    </tr>\n",
       "  </tbody>\n",
       "</table>\n",
       "</div>"
      ],
      "text/plain": [
       "     A  B\n",
       "a  1.0  1\n",
       "b  2.0  3\n",
       "c  3.0  2\n",
       "d  NaN  4"
      ]
     },
     "execution_count": 46,
     "metadata": {},
     "output_type": "execute_result"
    }
   ],
   "source": [
    "dict = {'A': pd.Series([1,2,3,] , index = ['a','b','c']) ,\n",
    "       'B': pd.Series([1,3,2,4] , index = ['a','b','c','d'])}\n",
    "data = pd.DataFrame(dict)\n",
    "data"
   ]
  },
  {
   "cell_type": "code",
   "execution_count": 47,
   "id": "a677e97e",
   "metadata": {},
   "outputs": [],
   "source": [
    "# 2.2 Dataframe of Random Numbers with Date Indices"
   ]
  },
  {
   "cell_type": "code",
   "execution_count": 48,
   "id": "3addf3f5",
   "metadata": {},
   "outputs": [],
   "source": [
    "# use pandas date_range function"
   ]
  },
  {
   "cell_type": "code",
   "execution_count": 50,
   "id": "e61abec1",
   "metadata": {},
   "outputs": [
    {
     "data": {
      "text/plain": [
       "DatetimeIndex(['2022-12-18', '2022-12-19', '2022-12-20', '2022-12-21',\n",
       "               '2022-12-22', '2022-12-23', '2022-12-24', '2022-12-25'],\n",
       "              dtype='datetime64[ns]', freq='D')"
      ]
     },
     "execution_count": 50,
     "metadata": {},
     "output_type": "execute_result"
    }
   ],
   "source": [
    "date1 = pd.date_range(start = '2022-12-18' , end = '2022-12-25')\n",
    "date1"
   ]
  },
  {
   "cell_type": "code",
   "execution_count": 55,
   "id": "92b879d9",
   "metadata": {},
   "outputs": [
    {
     "data": {
      "text/html": [
       "<div>\n",
       "<style scoped>\n",
       "    .dataframe tbody tr th:only-of-type {\n",
       "        vertical-align: middle;\n",
       "    }\n",
       "\n",
       "    .dataframe tbody tr th {\n",
       "        vertical-align: top;\n",
       "    }\n",
       "\n",
       "    .dataframe thead th {\n",
       "        text-align: right;\n",
       "    }\n",
       "</style>\n",
       "<table border=\"1\" class=\"dataframe\">\n",
       "  <thead>\n",
       "    <tr style=\"text-align: right;\">\n",
       "      <th></th>\n",
       "      <th>Date</th>\n",
       "    </tr>\n",
       "  </thead>\n",
       "  <tbody>\n",
       "    <tr>\n",
       "      <th>0</th>\n",
       "      <td>2022-12-18</td>\n",
       "    </tr>\n",
       "    <tr>\n",
       "      <th>1</th>\n",
       "      <td>2022-12-19</td>\n",
       "    </tr>\n",
       "    <tr>\n",
       "      <th>2</th>\n",
       "      <td>2022-12-20</td>\n",
       "    </tr>\n",
       "    <tr>\n",
       "      <th>3</th>\n",
       "      <td>2022-12-21</td>\n",
       "    </tr>\n",
       "    <tr>\n",
       "      <th>4</th>\n",
       "      <td>2022-12-22</td>\n",
       "    </tr>\n",
       "    <tr>\n",
       "      <th>5</th>\n",
       "      <td>2022-12-23</td>\n",
       "    </tr>\n",
       "    <tr>\n",
       "      <th>6</th>\n",
       "      <td>2022-12-24</td>\n",
       "    </tr>\n",
       "    <tr>\n",
       "      <th>7</th>\n",
       "      <td>2022-12-25</td>\n",
       "    </tr>\n",
       "  </tbody>\n",
       "</table>\n",
       "</div>"
      ],
      "text/plain": [
       "        Date\n",
       "0 2022-12-18\n",
       "1 2022-12-19\n",
       "2 2022-12-20\n",
       "3 2022-12-21\n",
       "4 2022-12-22\n",
       "5 2022-12-23\n",
       "6 2022-12-24\n",
       "7 2022-12-25"
      ]
     },
     "execution_count": 55,
     "metadata": {},
     "output_type": "execute_result"
    }
   ],
   "source": [
    "data = pd.DataFrame(date1)\n",
    "data.columns = ['Date']\n",
    "data"
   ]
  },
  {
   "cell_type": "code",
   "execution_count": 73,
   "id": "a7d0c6b1",
   "metadata": {},
   "outputs": [
    {
     "data": {
      "text/plain": [
       "DatetimeIndex(['2022-12-18 18:16:45.590137', '2022-12-19 18:16:45.590137',\n",
       "               '2022-12-20 18:16:45.590137'],\n",
       "              dtype='datetime64[ns]', freq='D')"
      ]
     },
     "execution_count": 73,
     "metadata": {},
     "output_type": "execute_result"
    }
   ],
   "source": [
    "date2 = pd.date_range('today' , periods = 3)\n",
    "date2"
   ]
  },
  {
   "cell_type": "code",
   "execution_count": 66,
   "id": "30c0a292",
   "metadata": {},
   "outputs": [
    {
     "data": {
      "text/plain": [
       "DatetimeIndex(['2022-12-12', '2022-12-13', '2022-12-14', '2022-12-15',\n",
       "               '2022-12-16', '2022-12-17', '2022-12-18', '2022-12-19',\n",
       "               '2022-12-20', '2022-12-21'],\n",
       "              dtype='datetime64[ns]', freq='D')"
      ]
     },
     "execution_count": 66,
     "metadata": {},
     "output_type": "execute_result"
    }
   ],
   "source": [
    "date3 = pd.date_range(start = '12/12/2022' , periods =10)\n",
    "date3"
   ]
  },
  {
   "cell_type": "code",
   "execution_count": 67,
   "id": "d0d98ecc",
   "metadata": {},
   "outputs": [
    {
     "data": {
      "text/plain": [
       "array([[0.06135647, 0.52250762, 0.58763089, 0.45802898, 0.24462344,\n",
       "        0.17548037, 0.05031716, 0.96089966, 0.84174249, 0.51871701],\n",
       "       [0.99330933, 0.43023614, 0.73876715, 0.36150673, 0.96833452,\n",
       "        0.76748683, 0.05769228, 0.48083147, 0.20177314, 0.93052051],\n",
       "       [0.80108134, 0.20723197, 0.54157256, 0.59066884, 0.02252066,\n",
       "        0.12579994, 0.50163936, 0.35382189, 0.46983164, 0.43857511],\n",
       "       [0.55309793, 0.05377435, 0.50768804, 0.25034098, 0.9002054 ,\n",
       "        0.50941647, 0.03096423, 0.72968119, 0.91616283, 0.13783568],\n",
       "       [0.76253118, 0.09632849, 0.727845  , 0.65876106, 0.02497737,\n",
       "        0.26842947, 0.71893857, 0.09652777, 0.7796179 , 0.32627726],\n",
       "       [0.47488706, 0.69680647, 0.16034686, 0.82249602, 0.49089932,\n",
       "        0.0133429 , 0.87361297, 0.05773117, 0.66030903, 0.0026954 ],\n",
       "       [0.89842035, 0.15168852, 0.41832784, 0.90957647, 0.63505179,\n",
       "        0.25222488, 0.50548049, 0.40261347, 0.72230336, 0.23916734],\n",
       "       [0.1158926 , 0.67312551, 0.78518666, 0.8682004 , 0.90510984,\n",
       "        0.00669222, 0.97644338, 0.525759  , 0.4017712 , 0.51891344],\n",
       "       [0.98082951, 0.04959952, 0.86049684, 0.04988347, 0.36868836,\n",
       "        0.7733566 , 0.42368188, 0.66995261, 0.7855864 , 0.7304655 ],\n",
       "       [0.58309453, 0.15230906, 0.1568618 , 0.58889086, 0.61402957,\n",
       "        0.4069412 , 0.69941176, 0.30717509, 0.00175722, 0.20125744]])"
      ]
     },
     "execution_count": 67,
     "metadata": {},
     "output_type": "execute_result"
    }
   ],
   "source": [
    "Rand = np.random.random((10,10))\n",
    "Rand"
   ]
  },
  {
   "cell_type": "code",
   "execution_count": 68,
   "id": "d3f33fcd",
   "metadata": {},
   "outputs": [
    {
     "data": {
      "text/html": [
       "<div>\n",
       "<style scoped>\n",
       "    .dataframe tbody tr th:only-of-type {\n",
       "        vertical-align: middle;\n",
       "    }\n",
       "\n",
       "    .dataframe tbody tr th {\n",
       "        vertical-align: top;\n",
       "    }\n",
       "\n",
       "    .dataframe thead th {\n",
       "        text-align: right;\n",
       "    }\n",
       "</style>\n",
       "<table border=\"1\" class=\"dataframe\">\n",
       "  <thead>\n",
       "    <tr style=\"text-align: right;\">\n",
       "      <th></th>\n",
       "      <th>0</th>\n",
       "      <th>1</th>\n",
       "      <th>2</th>\n",
       "      <th>3</th>\n",
       "      <th>4</th>\n",
       "      <th>5</th>\n",
       "      <th>6</th>\n",
       "      <th>7</th>\n",
       "      <th>8</th>\n",
       "      <th>9</th>\n",
       "    </tr>\n",
       "  </thead>\n",
       "  <tbody>\n",
       "    <tr>\n",
       "      <th>2022-12-12</th>\n",
       "      <td>0.061356</td>\n",
       "      <td>0.522508</td>\n",
       "      <td>0.587631</td>\n",
       "      <td>0.458029</td>\n",
       "      <td>0.244623</td>\n",
       "      <td>0.175480</td>\n",
       "      <td>0.050317</td>\n",
       "      <td>0.960900</td>\n",
       "      <td>0.841742</td>\n",
       "      <td>0.518717</td>\n",
       "    </tr>\n",
       "    <tr>\n",
       "      <th>2022-12-13</th>\n",
       "      <td>0.993309</td>\n",
       "      <td>0.430236</td>\n",
       "      <td>0.738767</td>\n",
       "      <td>0.361507</td>\n",
       "      <td>0.968335</td>\n",
       "      <td>0.767487</td>\n",
       "      <td>0.057692</td>\n",
       "      <td>0.480831</td>\n",
       "      <td>0.201773</td>\n",
       "      <td>0.930521</td>\n",
       "    </tr>\n",
       "    <tr>\n",
       "      <th>2022-12-14</th>\n",
       "      <td>0.801081</td>\n",
       "      <td>0.207232</td>\n",
       "      <td>0.541573</td>\n",
       "      <td>0.590669</td>\n",
       "      <td>0.022521</td>\n",
       "      <td>0.125800</td>\n",
       "      <td>0.501639</td>\n",
       "      <td>0.353822</td>\n",
       "      <td>0.469832</td>\n",
       "      <td>0.438575</td>\n",
       "    </tr>\n",
       "    <tr>\n",
       "      <th>2022-12-15</th>\n",
       "      <td>0.553098</td>\n",
       "      <td>0.053774</td>\n",
       "      <td>0.507688</td>\n",
       "      <td>0.250341</td>\n",
       "      <td>0.900205</td>\n",
       "      <td>0.509416</td>\n",
       "      <td>0.030964</td>\n",
       "      <td>0.729681</td>\n",
       "      <td>0.916163</td>\n",
       "      <td>0.137836</td>\n",
       "    </tr>\n",
       "    <tr>\n",
       "      <th>2022-12-16</th>\n",
       "      <td>0.762531</td>\n",
       "      <td>0.096328</td>\n",
       "      <td>0.727845</td>\n",
       "      <td>0.658761</td>\n",
       "      <td>0.024977</td>\n",
       "      <td>0.268429</td>\n",
       "      <td>0.718939</td>\n",
       "      <td>0.096528</td>\n",
       "      <td>0.779618</td>\n",
       "      <td>0.326277</td>\n",
       "    </tr>\n",
       "    <tr>\n",
       "      <th>2022-12-17</th>\n",
       "      <td>0.474887</td>\n",
       "      <td>0.696806</td>\n",
       "      <td>0.160347</td>\n",
       "      <td>0.822496</td>\n",
       "      <td>0.490899</td>\n",
       "      <td>0.013343</td>\n",
       "      <td>0.873613</td>\n",
       "      <td>0.057731</td>\n",
       "      <td>0.660309</td>\n",
       "      <td>0.002695</td>\n",
       "    </tr>\n",
       "    <tr>\n",
       "      <th>2022-12-18</th>\n",
       "      <td>0.898420</td>\n",
       "      <td>0.151689</td>\n",
       "      <td>0.418328</td>\n",
       "      <td>0.909576</td>\n",
       "      <td>0.635052</td>\n",
       "      <td>0.252225</td>\n",
       "      <td>0.505480</td>\n",
       "      <td>0.402613</td>\n",
       "      <td>0.722303</td>\n",
       "      <td>0.239167</td>\n",
       "    </tr>\n",
       "    <tr>\n",
       "      <th>2022-12-19</th>\n",
       "      <td>0.115893</td>\n",
       "      <td>0.673126</td>\n",
       "      <td>0.785187</td>\n",
       "      <td>0.868200</td>\n",
       "      <td>0.905110</td>\n",
       "      <td>0.006692</td>\n",
       "      <td>0.976443</td>\n",
       "      <td>0.525759</td>\n",
       "      <td>0.401771</td>\n",
       "      <td>0.518913</td>\n",
       "    </tr>\n",
       "    <tr>\n",
       "      <th>2022-12-20</th>\n",
       "      <td>0.980830</td>\n",
       "      <td>0.049600</td>\n",
       "      <td>0.860497</td>\n",
       "      <td>0.049883</td>\n",
       "      <td>0.368688</td>\n",
       "      <td>0.773357</td>\n",
       "      <td>0.423682</td>\n",
       "      <td>0.669953</td>\n",
       "      <td>0.785586</td>\n",
       "      <td>0.730465</td>\n",
       "    </tr>\n",
       "    <tr>\n",
       "      <th>2022-12-21</th>\n",
       "      <td>0.583095</td>\n",
       "      <td>0.152309</td>\n",
       "      <td>0.156862</td>\n",
       "      <td>0.588891</td>\n",
       "      <td>0.614030</td>\n",
       "      <td>0.406941</td>\n",
       "      <td>0.699412</td>\n",
       "      <td>0.307175</td>\n",
       "      <td>0.001757</td>\n",
       "      <td>0.201257</td>\n",
       "    </tr>\n",
       "  </tbody>\n",
       "</table>\n",
       "</div>"
      ],
      "text/plain": [
       "                   0         1         2         3         4         5  \\\n",
       "2022-12-12  0.061356  0.522508  0.587631  0.458029  0.244623  0.175480   \n",
       "2022-12-13  0.993309  0.430236  0.738767  0.361507  0.968335  0.767487   \n",
       "2022-12-14  0.801081  0.207232  0.541573  0.590669  0.022521  0.125800   \n",
       "2022-12-15  0.553098  0.053774  0.507688  0.250341  0.900205  0.509416   \n",
       "2022-12-16  0.762531  0.096328  0.727845  0.658761  0.024977  0.268429   \n",
       "2022-12-17  0.474887  0.696806  0.160347  0.822496  0.490899  0.013343   \n",
       "2022-12-18  0.898420  0.151689  0.418328  0.909576  0.635052  0.252225   \n",
       "2022-12-19  0.115893  0.673126  0.785187  0.868200  0.905110  0.006692   \n",
       "2022-12-20  0.980830  0.049600  0.860497  0.049883  0.368688  0.773357   \n",
       "2022-12-21  0.583095  0.152309  0.156862  0.588891  0.614030  0.406941   \n",
       "\n",
       "                   6         7         8         9  \n",
       "2022-12-12  0.050317  0.960900  0.841742  0.518717  \n",
       "2022-12-13  0.057692  0.480831  0.201773  0.930521  \n",
       "2022-12-14  0.501639  0.353822  0.469832  0.438575  \n",
       "2022-12-15  0.030964  0.729681  0.916163  0.137836  \n",
       "2022-12-16  0.718939  0.096528  0.779618  0.326277  \n",
       "2022-12-17  0.873613  0.057731  0.660309  0.002695  \n",
       "2022-12-18  0.505480  0.402613  0.722303  0.239167  \n",
       "2022-12-19  0.976443  0.525759  0.401771  0.518913  \n",
       "2022-12-20  0.423682  0.669953  0.785586  0.730465  \n",
       "2022-12-21  0.699412  0.307175  0.001757  0.201257  "
      ]
     },
     "execution_count": 68,
     "metadata": {},
     "output_type": "execute_result"
    }
   ],
   "source": [
    "data = pd.DataFrame(Rand , index = date3)\n",
    "data"
   ]
  },
  {
   "cell_type": "code",
   "execution_count": 69,
   "id": "25f96f27",
   "metadata": {},
   "outputs": [],
   "source": [
    "# Changing the Column names"
   ]
  },
  {
   "cell_type": "code",
   "execution_count": 70,
   "id": "41bf4e2f",
   "metadata": {},
   "outputs": [],
   "source": [
    "data.columns = ['C1','C2','C3','C4','C5','C6','C7','C8','C9','C10']"
   ]
  },
  {
   "cell_type": "code",
   "execution_count": 71,
   "id": "ed75df65",
   "metadata": {},
   "outputs": [
    {
     "data": {
      "text/html": [
       "<div>\n",
       "<style scoped>\n",
       "    .dataframe tbody tr th:only-of-type {\n",
       "        vertical-align: middle;\n",
       "    }\n",
       "\n",
       "    .dataframe tbody tr th {\n",
       "        vertical-align: top;\n",
       "    }\n",
       "\n",
       "    .dataframe thead th {\n",
       "        text-align: right;\n",
       "    }\n",
       "</style>\n",
       "<table border=\"1\" class=\"dataframe\">\n",
       "  <thead>\n",
       "    <tr style=\"text-align: right;\">\n",
       "      <th></th>\n",
       "      <th>C1</th>\n",
       "      <th>C2</th>\n",
       "      <th>C3</th>\n",
       "      <th>C4</th>\n",
       "      <th>C5</th>\n",
       "      <th>C6</th>\n",
       "      <th>C7</th>\n",
       "      <th>C8</th>\n",
       "      <th>C9</th>\n",
       "      <th>C10</th>\n",
       "    </tr>\n",
       "  </thead>\n",
       "  <tbody>\n",
       "    <tr>\n",
       "      <th>2022-12-12</th>\n",
       "      <td>0.061356</td>\n",
       "      <td>0.522508</td>\n",
       "      <td>0.587631</td>\n",
       "      <td>0.458029</td>\n",
       "      <td>0.244623</td>\n",
       "      <td>0.175480</td>\n",
       "      <td>0.050317</td>\n",
       "      <td>0.960900</td>\n",
       "      <td>0.841742</td>\n",
       "      <td>0.518717</td>\n",
       "    </tr>\n",
       "    <tr>\n",
       "      <th>2022-12-13</th>\n",
       "      <td>0.993309</td>\n",
       "      <td>0.430236</td>\n",
       "      <td>0.738767</td>\n",
       "      <td>0.361507</td>\n",
       "      <td>0.968335</td>\n",
       "      <td>0.767487</td>\n",
       "      <td>0.057692</td>\n",
       "      <td>0.480831</td>\n",
       "      <td>0.201773</td>\n",
       "      <td>0.930521</td>\n",
       "    </tr>\n",
       "    <tr>\n",
       "      <th>2022-12-14</th>\n",
       "      <td>0.801081</td>\n",
       "      <td>0.207232</td>\n",
       "      <td>0.541573</td>\n",
       "      <td>0.590669</td>\n",
       "      <td>0.022521</td>\n",
       "      <td>0.125800</td>\n",
       "      <td>0.501639</td>\n",
       "      <td>0.353822</td>\n",
       "      <td>0.469832</td>\n",
       "      <td>0.438575</td>\n",
       "    </tr>\n",
       "    <tr>\n",
       "      <th>2022-12-15</th>\n",
       "      <td>0.553098</td>\n",
       "      <td>0.053774</td>\n",
       "      <td>0.507688</td>\n",
       "      <td>0.250341</td>\n",
       "      <td>0.900205</td>\n",
       "      <td>0.509416</td>\n",
       "      <td>0.030964</td>\n",
       "      <td>0.729681</td>\n",
       "      <td>0.916163</td>\n",
       "      <td>0.137836</td>\n",
       "    </tr>\n",
       "    <tr>\n",
       "      <th>2022-12-16</th>\n",
       "      <td>0.762531</td>\n",
       "      <td>0.096328</td>\n",
       "      <td>0.727845</td>\n",
       "      <td>0.658761</td>\n",
       "      <td>0.024977</td>\n",
       "      <td>0.268429</td>\n",
       "      <td>0.718939</td>\n",
       "      <td>0.096528</td>\n",
       "      <td>0.779618</td>\n",
       "      <td>0.326277</td>\n",
       "    </tr>\n",
       "    <tr>\n",
       "      <th>2022-12-17</th>\n",
       "      <td>0.474887</td>\n",
       "      <td>0.696806</td>\n",
       "      <td>0.160347</td>\n",
       "      <td>0.822496</td>\n",
       "      <td>0.490899</td>\n",
       "      <td>0.013343</td>\n",
       "      <td>0.873613</td>\n",
       "      <td>0.057731</td>\n",
       "      <td>0.660309</td>\n",
       "      <td>0.002695</td>\n",
       "    </tr>\n",
       "    <tr>\n",
       "      <th>2022-12-18</th>\n",
       "      <td>0.898420</td>\n",
       "      <td>0.151689</td>\n",
       "      <td>0.418328</td>\n",
       "      <td>0.909576</td>\n",
       "      <td>0.635052</td>\n",
       "      <td>0.252225</td>\n",
       "      <td>0.505480</td>\n",
       "      <td>0.402613</td>\n",
       "      <td>0.722303</td>\n",
       "      <td>0.239167</td>\n",
       "    </tr>\n",
       "    <tr>\n",
       "      <th>2022-12-19</th>\n",
       "      <td>0.115893</td>\n",
       "      <td>0.673126</td>\n",
       "      <td>0.785187</td>\n",
       "      <td>0.868200</td>\n",
       "      <td>0.905110</td>\n",
       "      <td>0.006692</td>\n",
       "      <td>0.976443</td>\n",
       "      <td>0.525759</td>\n",
       "      <td>0.401771</td>\n",
       "      <td>0.518913</td>\n",
       "    </tr>\n",
       "    <tr>\n",
       "      <th>2022-12-20</th>\n",
       "      <td>0.980830</td>\n",
       "      <td>0.049600</td>\n",
       "      <td>0.860497</td>\n",
       "      <td>0.049883</td>\n",
       "      <td>0.368688</td>\n",
       "      <td>0.773357</td>\n",
       "      <td>0.423682</td>\n",
       "      <td>0.669953</td>\n",
       "      <td>0.785586</td>\n",
       "      <td>0.730465</td>\n",
       "    </tr>\n",
       "    <tr>\n",
       "      <th>2022-12-21</th>\n",
       "      <td>0.583095</td>\n",
       "      <td>0.152309</td>\n",
       "      <td>0.156862</td>\n",
       "      <td>0.588891</td>\n",
       "      <td>0.614030</td>\n",
       "      <td>0.406941</td>\n",
       "      <td>0.699412</td>\n",
       "      <td>0.307175</td>\n",
       "      <td>0.001757</td>\n",
       "      <td>0.201257</td>\n",
       "    </tr>\n",
       "  </tbody>\n",
       "</table>\n",
       "</div>"
      ],
      "text/plain": [
       "                  C1        C2        C3        C4        C5        C6  \\\n",
       "2022-12-12  0.061356  0.522508  0.587631  0.458029  0.244623  0.175480   \n",
       "2022-12-13  0.993309  0.430236  0.738767  0.361507  0.968335  0.767487   \n",
       "2022-12-14  0.801081  0.207232  0.541573  0.590669  0.022521  0.125800   \n",
       "2022-12-15  0.553098  0.053774  0.507688  0.250341  0.900205  0.509416   \n",
       "2022-12-16  0.762531  0.096328  0.727845  0.658761  0.024977  0.268429   \n",
       "2022-12-17  0.474887  0.696806  0.160347  0.822496  0.490899  0.013343   \n",
       "2022-12-18  0.898420  0.151689  0.418328  0.909576  0.635052  0.252225   \n",
       "2022-12-19  0.115893  0.673126  0.785187  0.868200  0.905110  0.006692   \n",
       "2022-12-20  0.980830  0.049600  0.860497  0.049883  0.368688  0.773357   \n",
       "2022-12-21  0.583095  0.152309  0.156862  0.588891  0.614030  0.406941   \n",
       "\n",
       "                  C7        C8        C9       C10  \n",
       "2022-12-12  0.050317  0.960900  0.841742  0.518717  \n",
       "2022-12-13  0.057692  0.480831  0.201773  0.930521  \n",
       "2022-12-14  0.501639  0.353822  0.469832  0.438575  \n",
       "2022-12-15  0.030964  0.729681  0.916163  0.137836  \n",
       "2022-12-16  0.718939  0.096528  0.779618  0.326277  \n",
       "2022-12-17  0.873613  0.057731  0.660309  0.002695  \n",
       "2022-12-18  0.505480  0.402613  0.722303  0.239167  \n",
       "2022-12-19  0.976443  0.525759  0.401771  0.518913  \n",
       "2022-12-20  0.423682  0.669953  0.785586  0.730465  \n",
       "2022-12-21  0.699412  0.307175  0.001757  0.201257  "
      ]
     },
     "execution_count": 71,
     "metadata": {},
     "output_type": "execute_result"
    }
   ],
   "source": [
    "data"
   ]
  },
  {
   "cell_type": "code",
   "execution_count": 75,
   "id": "eb2215f2",
   "metadata": {},
   "outputs": [
    {
     "name": "stdout",
     "output_type": "stream",
     "text": [
      "[[0.70130817 0.89199789 0.36420996]\n",
      " [0.84929466 0.49465466 0.80845802]\n",
      " [0.42758263 0.03757548 0.25006775]]\n",
      "DatetimeIndex(['2022-12-18 18:16:45.590137', '2022-12-19 18:16:45.590137',\n",
      "               '2022-12-20 18:16:45.590137'],\n",
      "              dtype='datetime64[ns]', freq='D')\n"
     ]
    },
    {
     "data": {
      "text/html": [
       "<div>\n",
       "<style scoped>\n",
       "    .dataframe tbody tr th:only-of-type {\n",
       "        vertical-align: middle;\n",
       "    }\n",
       "\n",
       "    .dataframe tbody tr th {\n",
       "        vertical-align: top;\n",
       "    }\n",
       "\n",
       "    .dataframe thead th {\n",
       "        text-align: right;\n",
       "    }\n",
       "</style>\n",
       "<table border=\"1\" class=\"dataframe\">\n",
       "  <thead>\n",
       "    <tr style=\"text-align: right;\">\n",
       "      <th></th>\n",
       "      <th>0</th>\n",
       "      <th>1</th>\n",
       "      <th>2</th>\n",
       "    </tr>\n",
       "  </thead>\n",
       "  <tbody>\n",
       "    <tr>\n",
       "      <th>2022-12-18 18:16:45.590137</th>\n",
       "      <td>0.701308</td>\n",
       "      <td>0.891998</td>\n",
       "      <td>0.364210</td>\n",
       "    </tr>\n",
       "    <tr>\n",
       "      <th>2022-12-19 18:16:45.590137</th>\n",
       "      <td>0.849295</td>\n",
       "      <td>0.494655</td>\n",
       "      <td>0.808458</td>\n",
       "    </tr>\n",
       "    <tr>\n",
       "      <th>2022-12-20 18:16:45.590137</th>\n",
       "      <td>0.427583</td>\n",
       "      <td>0.037575</td>\n",
       "      <td>0.250068</td>\n",
       "    </tr>\n",
       "  </tbody>\n",
       "</table>\n",
       "</div>"
      ],
      "text/plain": [
       "                                   0         1         2\n",
       "2022-12-18 18:16:45.590137  0.701308  0.891998  0.364210\n",
       "2022-12-19 18:16:45.590137  0.849295  0.494655  0.808458\n",
       "2022-12-20 18:16:45.590137  0.427583  0.037575  0.250068"
      ]
     },
     "execution_count": 75,
     "metadata": {},
     "output_type": "execute_result"
    }
   ],
   "source": [
    "random = np.random.random((3,3))\n",
    "print(random)\n",
    "print(date2)\n",
    "x = pd.DataFrame(random , index = date2)\n",
    "x"
   ]
  },
  {
   "cell_type": "code",
   "execution_count": 78,
   "id": "b3a57e96",
   "metadata": {},
   "outputs": [
    {
     "data": {
      "text/html": [
       "<div>\n",
       "<style scoped>\n",
       "    .dataframe tbody tr th:only-of-type {\n",
       "        vertical-align: middle;\n",
       "    }\n",
       "\n",
       "    .dataframe tbody tr th {\n",
       "        vertical-align: top;\n",
       "    }\n",
       "\n",
       "    .dataframe thead th {\n",
       "        text-align: right;\n",
       "    }\n",
       "</style>\n",
       "<table border=\"1\" class=\"dataframe\">\n",
       "  <thead>\n",
       "    <tr style=\"text-align: right;\">\n",
       "      <th></th>\n",
       "      <th>CP9</th>\n",
       "      <th>CP10</th>\n",
       "      <th>CP11</th>\n",
       "    </tr>\n",
       "  </thead>\n",
       "  <tbody>\n",
       "    <tr>\n",
       "      <th>2022-12-18 18:16:45.590137</th>\n",
       "      <td>0.701308</td>\n",
       "      <td>0.891998</td>\n",
       "      <td>0.364210</td>\n",
       "    </tr>\n",
       "    <tr>\n",
       "      <th>2022-12-19 18:16:45.590137</th>\n",
       "      <td>0.849295</td>\n",
       "      <td>0.494655</td>\n",
       "      <td>0.808458</td>\n",
       "    </tr>\n",
       "    <tr>\n",
       "      <th>2022-12-20 18:16:45.590137</th>\n",
       "      <td>0.427583</td>\n",
       "      <td>0.037575</td>\n",
       "      <td>0.250068</td>\n",
       "    </tr>\n",
       "  </tbody>\n",
       "</table>\n",
       "</div>"
      ],
      "text/plain": [
       "                                 CP9      CP10      CP11\n",
       "2022-12-18 18:16:45.590137  0.701308  0.891998  0.364210\n",
       "2022-12-19 18:16:45.590137  0.849295  0.494655  0.808458\n",
       "2022-12-20 18:16:45.590137  0.427583  0.037575  0.250068"
      ]
     },
     "execution_count": 78,
     "metadata": {},
     "output_type": "execute_result"
    }
   ],
   "source": [
    "x.columns = ['CP9','CP10','CP11']\n",
    "x"
   ]
  },
  {
   "cell_type": "code",
   "execution_count": 82,
   "id": "e339afb9",
   "metadata": {},
   "outputs": [
    {
     "data": {
      "text/plain": [
       "array([0.70130817, 0.84929466, 0.42758263])"
      ]
     },
     "execution_count": 82,
     "metadata": {},
     "output_type": "execute_result"
    }
   ],
   "source": [
    "x['CP9'].unique()"
   ]
  },
  {
   "cell_type": "code",
   "execution_count": 93,
   "id": "bf8d4453",
   "metadata": {},
   "outputs": [
    {
     "name": "stdout",
     "output_type": "stream",
     "text": [
      "CP9     float64\n",
      "CP10    float64\n",
      "CP11    float64\n",
      "dtype: object\n",
      "9\n",
      "(3, 3)\n",
      "            CP9      CP10      CP11\n",
      "count  3.000000  3.000000  3.000000\n",
      "mean   0.659395  0.474743  0.474245\n",
      "std    0.213957  0.427559  0.295010\n",
      "min    0.427583  0.037575  0.250068\n",
      "25%    0.564445  0.266115  0.307139\n",
      "50%    0.701308  0.494655  0.364210\n",
      "75%    0.775301  0.693326  0.586334\n",
      "max    0.849295  0.891998  0.808458\n"
     ]
    },
    {
     "data": {
      "text/plain": [
       "3"
      ]
     },
     "execution_count": 93,
     "metadata": {},
     "output_type": "execute_result"
    }
   ],
   "source": [
    "print(x.dtypes)\n",
    "print(x.size)\n",
    "print(x.shape)\n",
    "print(x.describe())\n",
    "x['CP10'].nunique()"
   ]
  },
  {
   "cell_type": "code",
   "execution_count": 90,
   "id": "dc7db193",
   "metadata": {},
   "outputs": [
    {
     "data": {
      "text/plain": [
       "array([0.70130817, 0.84929466, 0.42758263])"
      ]
     },
     "execution_count": 90,
     "metadata": {},
     "output_type": "execute_result"
    }
   ],
   "source": [
    "x['CP9'].unique()"
   ]
  },
  {
   "cell_type": "code",
   "execution_count": 91,
   "id": "aa275cb6",
   "metadata": {},
   "outputs": [
    {
     "data": {
      "text/plain": [
       "3"
      ]
     },
     "execution_count": 91,
     "metadata": {},
     "output_type": "execute_result"
    }
   ],
   "source": [
    "x['CP9'].nunique()"
   ]
  },
  {
   "cell_type": "code",
   "execution_count": 99,
   "id": "7da9d35e",
   "metadata": {
    "scrolled": true
   },
   "outputs": [
    {
     "data": {
      "text/html": [
       "<div>\n",
       "<style scoped>\n",
       "    .dataframe tbody tr th:only-of-type {\n",
       "        vertical-align: middle;\n",
       "    }\n",
       "\n",
       "    .dataframe tbody tr th {\n",
       "        vertical-align: top;\n",
       "    }\n",
       "\n",
       "    .dataframe thead th {\n",
       "        text-align: right;\n",
       "    }\n",
       "</style>\n",
       "<table border=\"1\" class=\"dataframe\">\n",
       "  <thead>\n",
       "    <tr style=\"text-align: right;\">\n",
       "      <th></th>\n",
       "      <th>C1</th>\n",
       "      <th>C2</th>\n",
       "      <th>C3</th>\n",
       "      <th>C4</th>\n",
       "      <th>C5</th>\n",
       "      <th>C6</th>\n",
       "      <th>C7</th>\n",
       "      <th>C8</th>\n",
       "      <th>C9</th>\n",
       "      <th>C10</th>\n",
       "    </tr>\n",
       "  </thead>\n",
       "  <tbody>\n",
       "    <tr>\n",
       "      <th>2022-12-12</th>\n",
       "      <td>0.061356</td>\n",
       "      <td>0.522508</td>\n",
       "      <td>0.587631</td>\n",
       "      <td>0.458029</td>\n",
       "      <td>0.244623</td>\n",
       "      <td>0.175480</td>\n",
       "      <td>0.050317</td>\n",
       "      <td>0.960900</td>\n",
       "      <td>0.841742</td>\n",
       "      <td>0.518717</td>\n",
       "    </tr>\n",
       "    <tr>\n",
       "      <th>2022-12-19</th>\n",
       "      <td>0.115893</td>\n",
       "      <td>0.673126</td>\n",
       "      <td>0.785187</td>\n",
       "      <td>0.868200</td>\n",
       "      <td>0.905110</td>\n",
       "      <td>0.006692</td>\n",
       "      <td>0.976443</td>\n",
       "      <td>0.525759</td>\n",
       "      <td>0.401771</td>\n",
       "      <td>0.518913</td>\n",
       "    </tr>\n",
       "    <tr>\n",
       "      <th>2022-12-17</th>\n",
       "      <td>0.474887</td>\n",
       "      <td>0.696806</td>\n",
       "      <td>0.160347</td>\n",
       "      <td>0.822496</td>\n",
       "      <td>0.490899</td>\n",
       "      <td>0.013343</td>\n",
       "      <td>0.873613</td>\n",
       "      <td>0.057731</td>\n",
       "      <td>0.660309</td>\n",
       "      <td>0.002695</td>\n",
       "    </tr>\n",
       "    <tr>\n",
       "      <th>2022-12-15</th>\n",
       "      <td>0.553098</td>\n",
       "      <td>0.053774</td>\n",
       "      <td>0.507688</td>\n",
       "      <td>0.250341</td>\n",
       "      <td>0.900205</td>\n",
       "      <td>0.509416</td>\n",
       "      <td>0.030964</td>\n",
       "      <td>0.729681</td>\n",
       "      <td>0.916163</td>\n",
       "      <td>0.137836</td>\n",
       "    </tr>\n",
       "    <tr>\n",
       "      <th>2022-12-21</th>\n",
       "      <td>0.583095</td>\n",
       "      <td>0.152309</td>\n",
       "      <td>0.156862</td>\n",
       "      <td>0.588891</td>\n",
       "      <td>0.614030</td>\n",
       "      <td>0.406941</td>\n",
       "      <td>0.699412</td>\n",
       "      <td>0.307175</td>\n",
       "      <td>0.001757</td>\n",
       "      <td>0.201257</td>\n",
       "    </tr>\n",
       "    <tr>\n",
       "      <th>2022-12-16</th>\n",
       "      <td>0.762531</td>\n",
       "      <td>0.096328</td>\n",
       "      <td>0.727845</td>\n",
       "      <td>0.658761</td>\n",
       "      <td>0.024977</td>\n",
       "      <td>0.268429</td>\n",
       "      <td>0.718939</td>\n",
       "      <td>0.096528</td>\n",
       "      <td>0.779618</td>\n",
       "      <td>0.326277</td>\n",
       "    </tr>\n",
       "    <tr>\n",
       "      <th>2022-12-14</th>\n",
       "      <td>0.801081</td>\n",
       "      <td>0.207232</td>\n",
       "      <td>0.541573</td>\n",
       "      <td>0.590669</td>\n",
       "      <td>0.022521</td>\n",
       "      <td>0.125800</td>\n",
       "      <td>0.501639</td>\n",
       "      <td>0.353822</td>\n",
       "      <td>0.469832</td>\n",
       "      <td>0.438575</td>\n",
       "    </tr>\n",
       "    <tr>\n",
       "      <th>2022-12-18</th>\n",
       "      <td>0.898420</td>\n",
       "      <td>0.151689</td>\n",
       "      <td>0.418328</td>\n",
       "      <td>0.909576</td>\n",
       "      <td>0.635052</td>\n",
       "      <td>0.252225</td>\n",
       "      <td>0.505480</td>\n",
       "      <td>0.402613</td>\n",
       "      <td>0.722303</td>\n",
       "      <td>0.239167</td>\n",
       "    </tr>\n",
       "    <tr>\n",
       "      <th>2022-12-20</th>\n",
       "      <td>0.980830</td>\n",
       "      <td>0.049600</td>\n",
       "      <td>0.860497</td>\n",
       "      <td>0.049883</td>\n",
       "      <td>0.368688</td>\n",
       "      <td>0.773357</td>\n",
       "      <td>0.423682</td>\n",
       "      <td>0.669953</td>\n",
       "      <td>0.785586</td>\n",
       "      <td>0.730465</td>\n",
       "    </tr>\n",
       "    <tr>\n",
       "      <th>2022-12-13</th>\n",
       "      <td>0.993309</td>\n",
       "      <td>0.430236</td>\n",
       "      <td>0.738767</td>\n",
       "      <td>0.361507</td>\n",
       "      <td>0.968335</td>\n",
       "      <td>0.767487</td>\n",
       "      <td>0.057692</td>\n",
       "      <td>0.480831</td>\n",
       "      <td>0.201773</td>\n",
       "      <td>0.930521</td>\n",
       "    </tr>\n",
       "  </tbody>\n",
       "</table>\n",
       "</div>"
      ],
      "text/plain": [
       "                  C1        C2        C3        C4        C5        C6  \\\n",
       "2022-12-12  0.061356  0.522508  0.587631  0.458029  0.244623  0.175480   \n",
       "2022-12-19  0.115893  0.673126  0.785187  0.868200  0.905110  0.006692   \n",
       "2022-12-17  0.474887  0.696806  0.160347  0.822496  0.490899  0.013343   \n",
       "2022-12-15  0.553098  0.053774  0.507688  0.250341  0.900205  0.509416   \n",
       "2022-12-21  0.583095  0.152309  0.156862  0.588891  0.614030  0.406941   \n",
       "2022-12-16  0.762531  0.096328  0.727845  0.658761  0.024977  0.268429   \n",
       "2022-12-14  0.801081  0.207232  0.541573  0.590669  0.022521  0.125800   \n",
       "2022-12-18  0.898420  0.151689  0.418328  0.909576  0.635052  0.252225   \n",
       "2022-12-20  0.980830  0.049600  0.860497  0.049883  0.368688  0.773357   \n",
       "2022-12-13  0.993309  0.430236  0.738767  0.361507  0.968335  0.767487   \n",
       "\n",
       "                  C7        C8        C9       C10  \n",
       "2022-12-12  0.050317  0.960900  0.841742  0.518717  \n",
       "2022-12-19  0.976443  0.525759  0.401771  0.518913  \n",
       "2022-12-17  0.873613  0.057731  0.660309  0.002695  \n",
       "2022-12-15  0.030964  0.729681  0.916163  0.137836  \n",
       "2022-12-21  0.699412  0.307175  0.001757  0.201257  \n",
       "2022-12-16  0.718939  0.096528  0.779618  0.326277  \n",
       "2022-12-14  0.501639  0.353822  0.469832  0.438575  \n",
       "2022-12-18  0.505480  0.402613  0.722303  0.239167  \n",
       "2022-12-20  0.423682  0.669953  0.785586  0.730465  \n",
       "2022-12-13  0.057692  0.480831  0.201773  0.930521  "
      ]
     },
     "execution_count": 99,
     "metadata": {},
     "output_type": "execute_result"
    }
   ],
   "source": [
    "data.sort_values(by = 'C1' , ascending = True)"
   ]
  },
  {
   "cell_type": "code",
   "execution_count": 103,
   "id": "80fcccf7",
   "metadata": {},
   "outputs": [
    {
     "data": {
      "text/html": [
       "<div>\n",
       "<style scoped>\n",
       "    .dataframe tbody tr th:only-of-type {\n",
       "        vertical-align: middle;\n",
       "    }\n",
       "\n",
       "    .dataframe tbody tr th {\n",
       "        vertical-align: top;\n",
       "    }\n",
       "\n",
       "    .dataframe thead th {\n",
       "        text-align: right;\n",
       "    }\n",
       "</style>\n",
       "<table border=\"1\" class=\"dataframe\">\n",
       "  <thead>\n",
       "    <tr style=\"text-align: right;\">\n",
       "      <th></th>\n",
       "      <th>C2</th>\n",
       "      <th>C3</th>\n",
       "      <th>C4</th>\n",
       "      <th>C5</th>\n",
       "      <th>C6</th>\n",
       "      <th>C7</th>\n",
       "      <th>C8</th>\n",
       "      <th>C9</th>\n",
       "      <th>C10</th>\n",
       "    </tr>\n",
       "  </thead>\n",
       "  <tbody>\n",
       "    <tr>\n",
       "      <th>2022-12-12</th>\n",
       "      <td>0.522508</td>\n",
       "      <td>0.587631</td>\n",
       "      <td>0.458029</td>\n",
       "      <td>0.244623</td>\n",
       "      <td>0.175480</td>\n",
       "      <td>0.050317</td>\n",
       "      <td>0.960900</td>\n",
       "      <td>0.841742</td>\n",
       "      <td>0.518717</td>\n",
       "    </tr>\n",
       "    <tr>\n",
       "      <th>2022-12-13</th>\n",
       "      <td>0.430236</td>\n",
       "      <td>0.738767</td>\n",
       "      <td>0.361507</td>\n",
       "      <td>0.968335</td>\n",
       "      <td>0.767487</td>\n",
       "      <td>0.057692</td>\n",
       "      <td>0.480831</td>\n",
       "      <td>0.201773</td>\n",
       "      <td>0.930521</td>\n",
       "    </tr>\n",
       "    <tr>\n",
       "      <th>2022-12-14</th>\n",
       "      <td>0.207232</td>\n",
       "      <td>0.541573</td>\n",
       "      <td>0.590669</td>\n",
       "      <td>0.022521</td>\n",
       "      <td>0.125800</td>\n",
       "      <td>0.501639</td>\n",
       "      <td>0.353822</td>\n",
       "      <td>0.469832</td>\n",
       "      <td>0.438575</td>\n",
       "    </tr>\n",
       "    <tr>\n",
       "      <th>2022-12-15</th>\n",
       "      <td>0.053774</td>\n",
       "      <td>0.507688</td>\n",
       "      <td>0.250341</td>\n",
       "      <td>0.900205</td>\n",
       "      <td>0.509416</td>\n",
       "      <td>0.030964</td>\n",
       "      <td>0.729681</td>\n",
       "      <td>0.916163</td>\n",
       "      <td>0.137836</td>\n",
       "    </tr>\n",
       "    <tr>\n",
       "      <th>2022-12-16</th>\n",
       "      <td>0.096328</td>\n",
       "      <td>0.727845</td>\n",
       "      <td>0.658761</td>\n",
       "      <td>0.024977</td>\n",
       "      <td>0.268429</td>\n",
       "      <td>0.718939</td>\n",
       "      <td>0.096528</td>\n",
       "      <td>0.779618</td>\n",
       "      <td>0.326277</td>\n",
       "    </tr>\n",
       "    <tr>\n",
       "      <th>2022-12-17</th>\n",
       "      <td>0.696806</td>\n",
       "      <td>0.160347</td>\n",
       "      <td>0.822496</td>\n",
       "      <td>0.490899</td>\n",
       "      <td>0.013343</td>\n",
       "      <td>0.873613</td>\n",
       "      <td>0.057731</td>\n",
       "      <td>0.660309</td>\n",
       "      <td>0.002695</td>\n",
       "    </tr>\n",
       "    <tr>\n",
       "      <th>2022-12-18</th>\n",
       "      <td>0.151689</td>\n",
       "      <td>0.418328</td>\n",
       "      <td>0.909576</td>\n",
       "      <td>0.635052</td>\n",
       "      <td>0.252225</td>\n",
       "      <td>0.505480</td>\n",
       "      <td>0.402613</td>\n",
       "      <td>0.722303</td>\n",
       "      <td>0.239167</td>\n",
       "    </tr>\n",
       "    <tr>\n",
       "      <th>2022-12-19</th>\n",
       "      <td>0.673126</td>\n",
       "      <td>0.785187</td>\n",
       "      <td>0.868200</td>\n",
       "      <td>0.905110</td>\n",
       "      <td>0.006692</td>\n",
       "      <td>0.976443</td>\n",
       "      <td>0.525759</td>\n",
       "      <td>0.401771</td>\n",
       "      <td>0.518913</td>\n",
       "    </tr>\n",
       "    <tr>\n",
       "      <th>2022-12-20</th>\n",
       "      <td>0.049600</td>\n",
       "      <td>0.860497</td>\n",
       "      <td>0.049883</td>\n",
       "      <td>0.368688</td>\n",
       "      <td>0.773357</td>\n",
       "      <td>0.423682</td>\n",
       "      <td>0.669953</td>\n",
       "      <td>0.785586</td>\n",
       "      <td>0.730465</td>\n",
       "    </tr>\n",
       "    <tr>\n",
       "      <th>2022-12-21</th>\n",
       "      <td>0.152309</td>\n",
       "      <td>0.156862</td>\n",
       "      <td>0.588891</td>\n",
       "      <td>0.614030</td>\n",
       "      <td>0.406941</td>\n",
       "      <td>0.699412</td>\n",
       "      <td>0.307175</td>\n",
       "      <td>0.001757</td>\n",
       "      <td>0.201257</td>\n",
       "    </tr>\n",
       "  </tbody>\n",
       "</table>\n",
       "</div>"
      ],
      "text/plain": [
       "                  C2        C3        C4        C5        C6        C7  \\\n",
       "2022-12-12  0.522508  0.587631  0.458029  0.244623  0.175480  0.050317   \n",
       "2022-12-13  0.430236  0.738767  0.361507  0.968335  0.767487  0.057692   \n",
       "2022-12-14  0.207232  0.541573  0.590669  0.022521  0.125800  0.501639   \n",
       "2022-12-15  0.053774  0.507688  0.250341  0.900205  0.509416  0.030964   \n",
       "2022-12-16  0.096328  0.727845  0.658761  0.024977  0.268429  0.718939   \n",
       "2022-12-17  0.696806  0.160347  0.822496  0.490899  0.013343  0.873613   \n",
       "2022-12-18  0.151689  0.418328  0.909576  0.635052  0.252225  0.505480   \n",
       "2022-12-19  0.673126  0.785187  0.868200  0.905110  0.006692  0.976443   \n",
       "2022-12-20  0.049600  0.860497  0.049883  0.368688  0.773357  0.423682   \n",
       "2022-12-21  0.152309  0.156862  0.588891  0.614030  0.406941  0.699412   \n",
       "\n",
       "                  C8        C9       C10  \n",
       "2022-12-12  0.960900  0.841742  0.518717  \n",
       "2022-12-13  0.480831  0.201773  0.930521  \n",
       "2022-12-14  0.353822  0.469832  0.438575  \n",
       "2022-12-15  0.729681  0.916163  0.137836  \n",
       "2022-12-16  0.096528  0.779618  0.326277  \n",
       "2022-12-17  0.057731  0.660309  0.002695  \n",
       "2022-12-18  0.402613  0.722303  0.239167  \n",
       "2022-12-19  0.525759  0.401771  0.518913  \n",
       "2022-12-20  0.669953  0.785586  0.730465  \n",
       "2022-12-21  0.307175  0.001757  0.201257  "
      ]
     },
     "execution_count": 103,
     "metadata": {},
     "output_type": "execute_result"
    }
   ],
   "source": [
    "data.drop(columns = ['C1'] , inplace = False)"
   ]
  },
  {
   "cell_type": "code",
   "execution_count": 106,
   "id": "0b63a0fb",
   "metadata": {},
   "outputs": [
    {
     "data": {
      "text/plain": [
       "2022-12-12    0.061356\n",
       "2022-12-13    0.993309\n",
       "2022-12-14    0.801081\n",
       "2022-12-15    0.553098\n",
       "2022-12-16    0.762531\n",
       "2022-12-17    0.474887\n",
       "2022-12-18    0.898420\n",
       "2022-12-19    0.115893\n",
       "2022-12-20    0.980830\n",
       "2022-12-21    0.583095\n",
       "Freq: D, Name: C1, dtype: float64"
      ]
     },
     "execution_count": 106,
     "metadata": {},
     "output_type": "execute_result"
    }
   ],
   "source": [
    "# delete using pop\n",
    "data.pop('C1')"
   ]
  },
  {
   "cell_type": "code",
   "execution_count": null,
   "id": "9dfef29f",
   "metadata": {},
   "outputs": [],
   "source": []
  }
 ],
 "metadata": {
  "kernelspec": {
   "display_name": "Python 3 (ipykernel)",
   "language": "python",
   "name": "python3"
  },
  "language_info": {
   "codemirror_mode": {
    "name": "ipython",
    "version": 3
   },
   "file_extension": ".py",
   "mimetype": "text/x-python",
   "name": "python",
   "nbconvert_exporter": "python",
   "pygments_lexer": "ipython3",
   "version": "3.9.12"
  }
 },
 "nbformat": 4,
 "nbformat_minor": 5
}
