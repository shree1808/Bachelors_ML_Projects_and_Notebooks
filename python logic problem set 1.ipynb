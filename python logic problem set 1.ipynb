{
 "cells": [
  {
   "cell_type": "code",
   "execution_count": 1,
   "id": "dcd6f69e",
   "metadata": {},
   "outputs": [],
   "source": [
    "#  Factor of an Integer\n",
    "def is_factor(a,b):\n",
    "    if b%a ==0 :\n",
    "        return True\n",
    "    else:\n",
    "        return False"
   ]
  },
  {
   "cell_type": "code",
   "execution_count": 2,
   "id": "dcebbe9d",
   "metadata": {},
   "outputs": [
    {
     "data": {
      "text/plain": [
       "True"
      ]
     },
     "execution_count": 2,
     "metadata": {},
     "output_type": "execute_result"
    }
   ],
   "source": [
    "is_factor(2,12)"
   ]
  },
  {
   "cell_type": "code",
   "execution_count": 3,
   "id": "5beed8de",
   "metadata": {},
   "outputs": [],
   "source": [
    "#  Factors of an Integer"
   ]
  },
  {
   "cell_type": "code",
   "execution_count": 4,
   "id": "dcbef223",
   "metadata": {},
   "outputs": [
    {
     "name": "stdout",
     "output_type": "stream",
     "text": [
      "Enter the Number6\n",
      "1\n",
      "2\n",
      "3\n",
      "6\n"
     ]
    }
   ],
   "source": [
    "'''\n",
    "Factors of an Integer\n",
    "'''\n",
    "def factors(b):\n",
    "    for i in range(1,b+1):\n",
    "        if b%i==0:\n",
    "            print(i)\n",
    "\n",
    "if __name__ == '__main__':\n",
    "    b = float(input('Enter the Number'))\n",
    "    if b > 0 and b.is_integer():\n",
    "        factors(int(b))\n",
    "    else:\n",
    "        print('Enter a positive number')"
   ]
  },
  {
   "cell_type": "code",
   "execution_count": 5,
   "id": "0322f80e",
   "metadata": {},
   "outputs": [],
   "source": [
    "#  Generating Multiplication Table"
   ]
  },
  {
   "cell_type": "code",
   "execution_count": 6,
   "id": "113fb3eb",
   "metadata": {},
   "outputs": [
    {
     "name": "stdout",
     "output_type": "stream",
     "text": [
      "Enter the Number8\n",
      "8 x 1 = 8\n",
      "8 x 2 = 16\n",
      "8 x 3 = 24\n",
      "8 x 4 = 32\n",
      "8 x 5 = 40\n",
      "8 x 6 = 48\n",
      "8 x 7 = 56\n",
      "8 x 8 = 64\n",
      "8 x 9 = 72\n",
      "8 x 10 = 80\n"
     ]
    }
   ],
   "source": [
    "'''\n",
    "Multiplication Table \n",
    "'''\n",
    "def multi_table(a):\n",
    "    for i in range(1,11):\n",
    "        print('{0} x {1} = {2}'.format(a,i,a*i))\n",
    "\n",
    "if __name__ == '__main__':\n",
    "    a = int(input('Enter the Number'))\n",
    "    multi_table(a)"
   ]
  },
  {
   "cell_type": "code",
   "execution_count": 18,
   "id": "1af9414a",
   "metadata": {},
   "outputs": [],
   "source": [
    "# #  Display the number followed by the next 9 even or odd numbers.\n",
    "# If the input is 2, the program should print even and then print 2, 4, 6, \n",
    "# 8, 10, 12, 14, 16, 18, 20. Similarly, if the input is 1, the program should \n",
    "# print odd and then print 1, 3, 5, 7, 9, 11, 13, 15, 17, 19."
   ]
  },
  {
   "cell_type": "code",
   "execution_count": 7,
   "id": "1a93d846",
   "metadata": {},
   "outputs": [
    {
     "name": "stdout",
     "output_type": "stream",
     "text": [
      "Enter the number5\n",
      "False Odd\n",
      "5\n",
      "7\n",
      "9\n",
      "11\n",
      "13\n",
      "15\n",
      "17\n",
      "19\n",
      "21\n",
      "23\n"
     ]
    }
   ],
   "source": [
    "def numbers(num):\n",
    "    if num%2==0:\n",
    "        print(True,'Even')\n",
    "        for i in range(num,num+20,2):\n",
    "            print(i)\n",
    "    else:\n",
    "        print(False,'Odd')\n",
    "        for i in range(num,num+20,2):\n",
    "            print(i)\n",
    "n = int(input('Enter the number'))\n",
    "numbers(n)"
   ]
  },
  {
   "cell_type": "code",
   "execution_count": 10,
   "id": "0c21000b",
   "metadata": {},
   "outputs": [
    {
     "name": "stdout",
     "output_type": "stream",
     "text": [
      "Enter the Number5\n",
      "Enter the maximum multiple5\n",
      "   1    2    3    4    5    \n",
      "\n",
      "1   |1    2    3    4    5    \n",
      "\n",
      "2   |2    4    6    8    10   \n",
      "\n",
      "3   |3    6    9    12   15   \n",
      "\n",
      "4   |4    8    12   16   20   \n",
      "\n",
      "5   |5    10   15   20   25   \n",
      "\n"
     ]
    }
   ],
   "source": [
    "'''\n",
    "Enhanced Multiplication Table\n",
    "'''\n",
    "def multi_table(num , max_multiple):\n",
    "    print(\"   \" , end = \"\")\n",
    "# Defining number of Columns\n",
    "    for i in range(1,max_multiple + 1):\n",
    "        print(\"{:<4d}\".format(i) , end = \" \")\n",
    "    print(\"\\n\")\n",
    "# Defining number of rows\n",
    "    for i in range(1,num+1):\n",
    "        print(\"{:<3d} |\".format(i) , end = \"\")\n",
    "        for j in range(1,max_multiple + 1):\n",
    "            result = i*j\n",
    "            print(\"{:<4d}\".format(result), end = \" \")\n",
    "        print(\"\\n\")\n",
    "#  User Input\n",
    "num_input = int(input('Enter the Number'))\n",
    "max_mulitple = int(input('Enter the maximum multiple'))\n",
    "multi_table(num_input , max_multiple)"
   ]
  },
  {
   "cell_type": "code",
   "execution_count": null,
   "id": "d86a57e3",
   "metadata": {},
   "outputs": [],
   "source": []
  }
 ],
 "metadata": {
  "kernelspec": {
   "display_name": "Python 3 (ipykernel)",
   "language": "python",
   "name": "python3"
  },
  "language_info": {
   "codemirror_mode": {
    "name": "ipython",
    "version": 3
   },
   "file_extension": ".py",
   "mimetype": "text/x-python",
   "name": "python",
   "nbconvert_exporter": "python",
   "pygments_lexer": "ipython3",
   "version": "3.9.12"
  }
 },
 "nbformat": 4,
 "nbformat_minor": 5
}
